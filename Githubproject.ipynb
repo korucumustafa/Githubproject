{
 "cells": [
  {
   "cell_type": "code",
   "execution_count": 1,
   "id": "70a13e94-1b2f-49cc-8c2d-86b9b6d08751",
   "metadata": {
    "tags": []
   },
   "outputs": [
    {
     "name": "stderr",
     "output_type": "stream",
     "text": [
      "Warning message in system(\"timedatectl\", intern = TRUE):\n",
      "“running command 'timedatectl' had status 1”\n",
      "── \u001b[1mAttaching core tidyverse packages\u001b[22m ──────────────────────── tidyverse 2.0.0 ──\n",
      "\u001b[32m✔\u001b[39m \u001b[34mdplyr    \u001b[39m 1.1.4     \u001b[32m✔\u001b[39m \u001b[34mreadr    \u001b[39m 2.1.5\n",
      "\u001b[32m✔\u001b[39m \u001b[34mforcats  \u001b[39m 1.0.0     \u001b[32m✔\u001b[39m \u001b[34mstringr  \u001b[39m 1.5.1\n",
      "\u001b[32m✔\u001b[39m \u001b[34mggplot2  \u001b[39m 3.4.4     \u001b[32m✔\u001b[39m \u001b[34mtibble   \u001b[39m 3.2.1\n",
      "\u001b[32m✔\u001b[39m \u001b[34mlubridate\u001b[39m 1.9.3     \u001b[32m✔\u001b[39m \u001b[34mtidyr    \u001b[39m 1.3.1\n",
      "\u001b[32m✔\u001b[39m \u001b[34mpurrr    \u001b[39m 1.0.2     \n",
      "── \u001b[1mConflicts\u001b[22m ────────────────────────────────────────── tidyverse_conflicts() ──\n",
      "\u001b[31m✖\u001b[39m \u001b[34mdplyr\u001b[39m::\u001b[32mfilter()\u001b[39m masks \u001b[34mstats\u001b[39m::filter()\n",
      "\u001b[31m✖\u001b[39m \u001b[34mdplyr\u001b[39m::\u001b[32mlag()\u001b[39m    masks \u001b[34mstats\u001b[39m::lag()\n",
      "\u001b[36mℹ\u001b[39m Use the conflicted package (\u001b[3m\u001b[34m<http://conflicted.r-lib.org/>\u001b[39m\u001b[23m) to force all conflicts to become errors\n",
      "\n",
      "Attaching package: ‘nlme’\n",
      "\n",
      "\n",
      "The following object is masked from ‘package:dplyr’:\n",
      "\n",
      "    collapse\n",
      "\n",
      "\n"
     ]
    }
   ],
   "source": [
    "library(tidyverse)\n",
    "library(nlme)\n",
    "library(DT)"
   ]
  },
  {
   "cell_type": "code",
   "execution_count": 2,
   "id": "fd75b9c8-4dd1-42a0-9422-ff2f30350ffb",
   "metadata": {
    "tags": []
   },
   "outputs": [],
   "source": [
    "options(repr.matrix.max.rows=20, repr.matrix.max.cols=30)"
   ]
  },
  {
   "cell_type": "code",
   "execution_count": null,
   "id": "8208b3ef-f359-4f98-8a9e-f567bf763443",
   "metadata": {},
   "outputs": [],
   "source": [
    "#I selected the cells containing information regarding students sex, their previous scores before the language education and their scores after to see if the effectiveness of the education had a corelation with their gender"
   ]
  },
  {
   "cell_type": "code",
   "execution_count": 3,
   "id": "f089a1a8-1a8d-4391-a7a2-f05ed0871391",
   "metadata": {
    "tags": []
   },
   "outputs": [
    {
     "data": {
      "text/html": [
       "<table class=\"dataframe\">\n",
       "<caption>A data.frame: 2287 × 3</caption>\n",
       "<thead>\n",
       "\t<tr><th></th><th scope=col>sex</th><th scope=col>langPRET</th><th scope=col>langPOST</th></tr>\n",
       "\t<tr><th></th><th scope=col>&lt;fct&gt;</th><th scope=col>&lt;dbl&gt;</th><th scope=col>&lt;dbl&gt;</th></tr>\n",
       "</thead>\n",
       "<tbody>\n",
       "\t<tr><th scope=row>1</th><td>0</td><td>36</td><td>46</td></tr>\n",
       "\t<tr><th scope=row>2</th><td>0</td><td>36</td><td>45</td></tr>\n",
       "\t<tr><th scope=row>3</th><td>0</td><td>33</td><td>33</td></tr>\n",
       "\t<tr><th scope=row>4</th><td>0</td><td>29</td><td>46</td></tr>\n",
       "\t<tr><th scope=row>5</th><td>0</td><td>19</td><td>20</td></tr>\n",
       "\t<tr><th scope=row>6</th><td>0</td><td>22</td><td>30</td></tr>\n",
       "\t<tr><th scope=row>7</th><td>0</td><td>20</td><td>30</td></tr>\n",
       "\t<tr><th scope=row>8</th><td>0</td><td>44</td><td>57</td></tr>\n",
       "\t<tr><th scope=row>9</th><td>0</td><td>34</td><td>36</td></tr>\n",
       "\t<tr><th scope=row>10</th><td>0</td><td>31</td><td>36</td></tr>\n",
       "\t<tr><th scope=row>⋮</th><td>⋮</td><td>⋮</td><td>⋮</td></tr>\n",
       "\t<tr><th scope=row>2278</th><td>0</td><td>29</td><td>24</td></tr>\n",
       "\t<tr><th scope=row>2279</th><td>1</td><td>39</td><td>52</td></tr>\n",
       "\t<tr><th scope=row>2280</th><td>1</td><td>27</td><td>30</td></tr>\n",
       "\t<tr><th scope=row>2281</th><td>0</td><td>26</td><td>21</td></tr>\n",
       "\t<tr><th scope=row>2282</th><td>0</td><td>20</td><td>25</td></tr>\n",
       "\t<tr><th scope=row>2283</th><td>1</td><td>24</td><td>21</td></tr>\n",
       "\t<tr><th scope=row>2284</th><td>1</td><td>22</td><td>33</td></tr>\n",
       "\t<tr><th scope=row>2285</th><td>0</td><td>25</td><td>26</td></tr>\n",
       "\t<tr><th scope=row>2286</th><td>1</td><td>31</td><td>34</td></tr>\n",
       "\t<tr><th scope=row>2287</th><td>1</td><td>29</td><td>39</td></tr>\n",
       "</tbody>\n",
       "</table>\n"
      ],
      "text/latex": [
       "A data.frame: 2287 × 3\n",
       "\\begin{tabular}{r|lll}\n",
       "  & sex & langPRET & langPOST\\\\\n",
       "  & <fct> & <dbl> & <dbl>\\\\\n",
       "\\hline\n",
       "\t1 & 0 & 36 & 46\\\\\n",
       "\t2 & 0 & 36 & 45\\\\\n",
       "\t3 & 0 & 33 & 33\\\\\n",
       "\t4 & 0 & 29 & 46\\\\\n",
       "\t5 & 0 & 19 & 20\\\\\n",
       "\t6 & 0 & 22 & 30\\\\\n",
       "\t7 & 0 & 20 & 30\\\\\n",
       "\t8 & 0 & 44 & 57\\\\\n",
       "\t9 & 0 & 34 & 36\\\\\n",
       "\t10 & 0 & 31 & 36\\\\\n",
       "\t⋮ & ⋮ & ⋮ & ⋮\\\\\n",
       "\t2278 & 0 & 29 & 24\\\\\n",
       "\t2279 & 1 & 39 & 52\\\\\n",
       "\t2280 & 1 & 27 & 30\\\\\n",
       "\t2281 & 0 & 26 & 21\\\\\n",
       "\t2282 & 0 & 20 & 25\\\\\n",
       "\t2283 & 1 & 24 & 21\\\\\n",
       "\t2284 & 1 & 22 & 33\\\\\n",
       "\t2285 & 0 & 25 & 26\\\\\n",
       "\t2286 & 1 & 31 & 34\\\\\n",
       "\t2287 & 1 & 29 & 39\\\\\n",
       "\\end{tabular}\n"
      ],
      "text/markdown": [
       "\n",
       "A data.frame: 2287 × 3\n",
       "\n",
       "| <!--/--> | sex &lt;fct&gt; | langPRET &lt;dbl&gt; | langPOST &lt;dbl&gt; |\n",
       "|---|---|---|---|\n",
       "| 1 | 0 | 36 | 46 |\n",
       "| 2 | 0 | 36 | 45 |\n",
       "| 3 | 0 | 33 | 33 |\n",
       "| 4 | 0 | 29 | 46 |\n",
       "| 5 | 0 | 19 | 20 |\n",
       "| 6 | 0 | 22 | 30 |\n",
       "| 7 | 0 | 20 | 30 |\n",
       "| 8 | 0 | 44 | 57 |\n",
       "| 9 | 0 | 34 | 36 |\n",
       "| 10 | 0 | 31 | 36 |\n",
       "| ⋮ | ⋮ | ⋮ | ⋮ |\n",
       "| 2278 | 0 | 29 | 24 |\n",
       "| 2279 | 1 | 39 | 52 |\n",
       "| 2280 | 1 | 27 | 30 |\n",
       "| 2281 | 0 | 26 | 21 |\n",
       "| 2282 | 0 | 20 | 25 |\n",
       "| 2283 | 1 | 24 | 21 |\n",
       "| 2284 | 1 | 22 | 33 |\n",
       "| 2285 | 0 | 25 | 26 |\n",
       "| 2286 | 1 | 31 | 34 |\n",
       "| 2287 | 1 | 29 | 39 |\n",
       "\n"
      ],
      "text/plain": [
       "     sex langPRET langPOST\n",
       "1    0   36       46      \n",
       "2    0   36       45      \n",
       "3    0   33       33      \n",
       "4    0   29       46      \n",
       "5    0   19       20      \n",
       "6    0   22       30      \n",
       "7    0   20       30      \n",
       "8    0   44       57      \n",
       "9    0   34       36      \n",
       "10   0   31       36      \n",
       "⋮    ⋮   ⋮        ⋮       \n",
       "2278 0   29       24      \n",
       "2279 1   39       52      \n",
       "2280 1   27       30      \n",
       "2281 0   26       21      \n",
       "2282 0   20       25      \n",
       "2283 1   24       21      \n",
       "2284 1   22       33      \n",
       "2285 0   25       26      \n",
       "2286 1   31       34      \n",
       "2287 1   29       39      "
      ]
     },
     "metadata": {},
     "output_type": "display_data"
    }
   ],
   "source": [
    "bdf %>% select(sex, langPRET, langPOST)"
   ]
  },
  {
   "cell_type": "code",
   "execution_count": null,
   "id": "17e94c16-69ee-418b-a62f-0044568d7076",
   "metadata": {},
   "outputs": [],
   "source": [
    "#Here I wanted to filter out the males (I assume the sex '0' are females) and out of all of the females I wanted to see the ones with langPOST scores higher than 45"
   ]
  },
  {
   "cell_type": "code",
   "execution_count": 4,
   "id": "c3ddba8d-bdc4-414b-9d41-3186d48616de",
   "metadata": {
    "tags": []
   },
   "outputs": [
    {
     "data": {
      "text/html": [
       "<table class=\"dataframe\">\n",
       "<caption>A nfnGroupedData: 371 × 28</caption>\n",
       "<thead>\n",
       "\t<tr><th></th><th scope=col>schoolNR</th><th scope=col>pupilNR</th><th scope=col>IQ.verb</th><th scope=col>IQ.perf</th><th scope=col>sex</th><th scope=col>Minority</th><th scope=col>repeatgr</th><th scope=col>aritPRET</th><th scope=col>classNR</th><th scope=col>aritPOST</th><th scope=col>langPRET</th><th scope=col>langPOST</th><th scope=col>ses</th><th scope=col>denomina</th><th scope=col>schoolSES</th><th scope=col>satiprin</th><th scope=col>natitest</th><th scope=col>meetings</th><th scope=col>currmeet</th><th scope=col>mixedgra</th><th scope=col>percmino</th><th scope=col>aritdiff</th><th scope=col>homework</th><th scope=col>classsiz</th><th scope=col>groupsiz</th><th scope=col>IQ.ver.cen</th><th scope=col>avg.IQ.ver.cen</th><th scope=col>grpSiz.cen</th></tr>\n",
       "\t<tr><th></th><th scope=col>&lt;ord&gt;</th><th scope=col>&lt;fct&gt;</th><th scope=col>&lt;dbl&gt;</th><th scope=col>&lt;dbl&gt;</th><th scope=col>&lt;fct&gt;</th><th scope=col>&lt;fct&gt;</th><th scope=col>&lt;ord&gt;</th><th scope=col>&lt;dbl&gt;</th><th scope=col>&lt;dbl&gt;</th><th scope=col>&lt;dbl&gt;</th><th scope=col>&lt;dbl&gt;</th><th scope=col>&lt;dbl&gt;</th><th scope=col>&lt;dbl&gt;</th><th scope=col>&lt;ord&gt;</th><th scope=col>&lt;dbl&gt;</th><th scope=col>&lt;dbl&gt;</th><th scope=col>&lt;fct&gt;</th><th scope=col>&lt;dbl&gt;</th><th scope=col>&lt;dbl&gt;</th><th scope=col>&lt;fct&gt;</th><th scope=col>&lt;dbl&gt;</th><th scope=col>&lt;dbl&gt;</th><th scope=col>&lt;dbl&gt;</th><th scope=col>&lt;dbl&gt;</th><th scope=col>&lt;dbl&gt;</th><th scope=col>&lt;dbl&gt;</th><th scope=col>&lt;dbl&gt;</th><th scope=col>&lt;dbl&gt;</th></tr>\n",
       "</thead>\n",
       "<tbody>\n",
       "\t<tr><th scope=row>1</th><td>1 </td><td>17001 </td><td>15.0</td><td>12.33333</td><td>0</td><td>N</td><td>0</td><td>14</td><td> 180</td><td>24</td><td>36</td><td>46</td><td>23</td><td>1</td><td>11</td><td>3.42857</td><td>0</td><td>1.70000</td><td>1.83333</td><td>0</td><td>60</td><td>12</td><td>2.33333</td><td>29</td><td>29</td><td> 3.1659379</td><td>-1.51406209</td><td>  5.899432</td></tr>\n",
       "\t<tr><th scope=row>4</th><td>1 </td><td>17004 </td><td>11.0</td><td>10.00000</td><td>0</td><td>N</td><td>0</td><td>13</td><td> 180</td><td>26</td><td>29</td><td>46</td><td>23</td><td>1</td><td>11</td><td>3.42857</td><td>0</td><td>1.70000</td><td>1.83333</td><td>0</td><td>60</td><td>12</td><td>2.33333</td><td>29</td><td>29</td><td>-0.8340621</td><td>-1.51406209</td><td>  5.899432</td></tr>\n",
       "\t<tr><th scope=row>8</th><td>1 </td><td>17008 </td><td>13.0</td><td>14.33333</td><td>0</td><td>N</td><td>0</td><td>17</td><td> 180</td><td>30</td><td>44</td><td>57</td><td>10</td><td>1</td><td>11</td><td>3.42857</td><td>0</td><td>1.70000</td><td>1.83333</td><td>0</td><td>60</td><td>12</td><td>2.33333</td><td>29</td><td>29</td><td> 1.1659379</td><td>-1.51406209</td><td>  5.899432</td></tr>\n",
       "\t<tr><th scope=row>14</th><td>1 </td><td>17014 </td><td>10.5</td><td>13.00000</td><td>0</td><td>Y</td><td>0</td><td>12</td><td> 180</td><td>22</td><td>34</td><td>47</td><td>20</td><td>1</td><td>11</td><td>3.42857</td><td>0</td><td>1.70000</td><td>1.83333</td><td>0</td><td>60</td><td>12</td><td>2.33333</td><td>29</td><td>29</td><td>-1.3340621</td><td>-1.51406209</td><td>  5.899432</td></tr>\n",
       "\t<tr><th scope=row>60</th><td>15</td><td>157010</td><td>12.0</td><td>12.66667</td><td>0</td><td>N</td><td>0</td><td> 3</td><td>1580</td><td>24</td><td>37</td><td>46</td><td>20</td><td>3</td><td>18</td><td>3.42857</td><td>0</td><td>1.90000</td><td>2.00000</td><td>1</td><td>25</td><td>21</td><td>2.00000</td><td>35</td><td>11</td><td> 0.1659379</td><td>-0.33406209</td><td>-12.100568</td></tr>\n",
       "\t<tr><th scope=row>64</th><td>16</td><td>167006</td><td>13.0</td><td>16.33333</td><td>0</td><td>N</td><td>0</td><td>15</td><td>1680</td><td>22</td><td>44</td><td>50</td><td>27</td><td>2</td><td>13</td><td>3.14286</td><td>0</td><td>2.11111</td><td>2.16667</td><td>1</td><td> 0</td><td>19</td><td>1.66667</td><td>28</td><td>13</td><td> 1.1659379</td><td>-0.14656209</td><td>-10.100568</td></tr>\n",
       "\t<tr><th scope=row>82</th><td>18</td><td>187015</td><td>12.0</td><td>16.33333</td><td>0</td><td>N</td><td>0</td><td>14</td><td>1880</td><td>20</td><td>41</td><td>47</td><td>50</td><td>1</td><td>20</td><td>4.00000</td><td>0</td><td>1.20000</td><td>1.16667</td><td>0</td><td> 0</td><td>25</td><td>1.66667</td><td>28</td><td>28</td><td> 0.1659379</td><td>-0.08406209</td><td>  4.899432</td></tr>\n",
       "\t<tr><th scope=row>93</th><td>21</td><td>217001</td><td>14.5</td><td>13.33333</td><td>0</td><td>N</td><td>0</td><td>16</td><td>2180</td><td>30</td><td>34</td><td>48</td><td>20</td><td>2</td><td>15</td><td>2.85714</td><td>0</td><td>1.80000</td><td>1.66667</td><td>0</td><td> 0</td><td>16</td><td>2.00000</td><td>19</td><td>19</td><td> 2.6659379</td><td>-0.06935621</td><td> -4.100568</td></tr>\n",
       "\t<tr><th scope=row>98</th><td>21</td><td>217007</td><td>13.0</td><td> 9.00000</td><td>0</td><td>N</td><td>0</td><td>13</td><td>2180</td><td>17</td><td>45</td><td>55</td><td>28</td><td>2</td><td>15</td><td>2.85714</td><td>0</td><td>1.80000</td><td>1.66667</td><td>0</td><td> 0</td><td>16</td><td>2.00000</td><td>19</td><td>19</td><td> 1.1659379</td><td>-0.06935621</td><td> -4.100568</td></tr>\n",
       "\t<tr><th scope=row>107</th><td>21</td><td>217017</td><td>12.0</td><td>12.66667</td><td>0</td><td>N</td><td>0</td><td>15</td><td>2180</td><td>27</td><td>44</td><td>47</td><td>18</td><td>2</td><td>15</td><td>2.85714</td><td>0</td><td>1.80000</td><td>1.66667</td><td>0</td><td> 0</td><td>16</td><td>2.00000</td><td>19</td><td>19</td><td> 0.1659379</td><td>-0.06935621</td><td> -4.100568</td></tr>\n",
       "\t<tr><th scope=row>⋮</th><td>⋮</td><td>⋮</td><td>⋮</td><td>⋮</td><td>⋮</td><td>⋮</td><td>⋮</td><td>⋮</td><td>⋮</td><td>⋮</td><td>⋮</td><td>⋮</td><td>⋮</td><td>⋮</td><td>⋮</td><td>⋮</td><td>⋮</td><td>⋮</td><td>⋮</td><td>⋮</td><td>⋮</td><td>⋮</td><td>⋮</td><td>⋮</td><td>⋮</td><td>⋮</td><td>⋮</td><td>⋮</td></tr>\n",
       "\t<tr><th scope=row>2201</th><td>244</td><td>2447006</td><td>12.5</td><td>13.33333</td><td>0</td><td>N</td><td>0</td><td>14</td><td>24480</td><td>25</td><td>39</td><td>49</td><td>18</td><td>3</td><td>13</td><td>3.85714</td><td>0</td><td>1.4</td><td>1.33333</td><td>0</td><td>0</td><td>26</td><td>3.00000</td><td>13</td><td>13</td><td>0.6659379</td><td>-0.7186775</td><td>-10.1005684</td></tr>\n",
       "\t<tr><th scope=row>2211</th><td>246</td><td>2467005</td><td>12.5</td><td> 8.66667</td><td>0</td><td>N</td><td>1</td><td>12</td><td>24680</td><td>15</td><td>34</td><td>47</td><td>50</td><td>1</td><td>24</td><td>3.14286</td><td>1</td><td>2.4</td><td>2.16667</td><td>1</td><td>0</td><td>13</td><td>3.33333</td><td>32</td><td>14</td><td>0.6659379</td><td> 0.9159379</td><td> -9.1005684</td></tr>\n",
       "\t<tr><th scope=row>2213</th><td>246</td><td>2467007</td><td>13.0</td><td>15.33333</td><td>0</td><td>N</td><td>0</td><td>16</td><td>24680</td><td>26</td><td>40</td><td>47</td><td>50</td><td>1</td><td>24</td><td>3.14286</td><td>1</td><td>2.4</td><td>2.16667</td><td>1</td><td>0</td><td>13</td><td>3.33333</td><td>32</td><td>14</td><td>1.1659379</td><td> 0.9159379</td><td> -9.1005684</td></tr>\n",
       "\t<tr><th scope=row>2216</th><td>246</td><td>2467010</td><td>12.5</td><td>10.33333</td><td>0</td><td>N</td><td>0</td><td>12</td><td>24680</td><td>22</td><td>41</td><td>53</td><td>50</td><td>1</td><td>24</td><td>3.14286</td><td>1</td><td>2.4</td><td>2.16667</td><td>1</td><td>0</td><td>13</td><td>3.33333</td><td>32</td><td>14</td><td>0.6659379</td><td> 0.9159379</td><td> -9.1005684</td></tr>\n",
       "\t<tr><th scope=row>2217</th><td>246</td><td>2467011</td><td>14.0</td><td>12.00000</td><td>0</td><td>N</td><td>0</td><td>15</td><td>24680</td><td>24</td><td>34</td><td>47</td><td>50</td><td>1</td><td>24</td><td>3.14286</td><td>1</td><td>2.4</td><td>2.16667</td><td>1</td><td>0</td><td>13</td><td>3.33333</td><td>32</td><td>14</td><td>2.1659379</td><td> 0.9159379</td><td> -9.1005684</td></tr>\n",
       "\t<tr><th scope=row>2218</th><td>246</td><td>2467012</td><td>16.5</td><td> 9.33333</td><td>0</td><td>N</td><td>0</td><td>19</td><td>24680</td><td>28</td><td>49</td><td>56</td><td>40</td><td>1</td><td>24</td><td>3.14286</td><td>1</td><td>2.4</td><td>2.16667</td><td>1</td><td>0</td><td>13</td><td>3.33333</td><td>32</td><td>14</td><td>4.6659379</td><td> 0.9159379</td><td> -9.1005684</td></tr>\n",
       "\t<tr><th scope=row>2219</th><td>246</td><td>2467013</td><td>12.5</td><td>12.00000</td><td>0</td><td>N</td><td>0</td><td>17</td><td>24680</td><td>26</td><td>41</td><td>51</td><td>30</td><td>1</td><td>24</td><td>3.14286</td><td>1</td><td>2.4</td><td>2.16667</td><td>1</td><td>0</td><td>13</td><td>3.33333</td><td>32</td><td>14</td><td>0.6659379</td><td> 0.9159379</td><td> -9.1005684</td></tr>\n",
       "\t<tr><th scope=row>2240</th><td>249</td><td>2497020</td><td>14.5</td><td>12.66667</td><td>0</td><td>N</td><td>0</td><td>15</td><td>24980</td><td>22</td><td>39</td><td>49</td><td>33</td><td>3</td><td>20</td><td>3.42857</td><td>1</td><td>2.0</td><td>1.66667</td><td>0</td><td>0</td><td>15</td><td>2.66667</td><td>24</td><td>24</td><td>2.6659379</td><td> 0.3742712</td><td>  0.8994316</td></tr>\n",
       "\t<tr><th scope=row>2244</th><td>249</td><td>2497024</td><td>15.5</td><td>11.00000</td><td>0</td><td>N</td><td>0</td><td>17</td><td>24980</td><td>29</td><td>44</td><td>50</td><td>23</td><td>3</td><td>20</td><td>3.42857</td><td>1</td><td>2.0</td><td>1.66667</td><td>0</td><td>0</td><td>15</td><td>2.66667</td><td>24</td><td>24</td><td>3.6659379</td><td> 0.3742712</td><td>  0.8994316</td></tr>\n",
       "\t<tr><th scope=row>2265</th><td>252</td><td>2527008</td><td>12.0</td><td> 9.33333</td><td>0</td><td>N</td><td>0</td><td>11</td><td>25280</td><td>16</td><td>39</td><td>48</td><td>15</td><td>3</td><td>17</td><td>3.28571</td><td>0</td><td>2.2</td><td>2.16667</td><td>0</td><td>0</td><td>15</td><td>2.33333</td><td>25</td><td>25</td><td>0.1659379</td><td>-0.5613348</td><td>  1.8994316</td></tr>\n",
       "</tbody>\n",
       "</table>\n"
      ],
      "text/latex": [
       "A nfnGroupedData: 371 × 28\n",
       "\\begin{tabular}{r|llllllllllllllllllllllllllll}\n",
       "  & schoolNR & pupilNR & IQ.verb & IQ.perf & sex & Minority & repeatgr & aritPRET & classNR & aritPOST & langPRET & langPOST & ses & denomina & schoolSES & satiprin & natitest & meetings & currmeet & mixedgra & percmino & aritdiff & homework & classsiz & groupsiz & IQ.ver.cen & avg.IQ.ver.cen & grpSiz.cen\\\\\n",
       "  & <ord> & <fct> & <dbl> & <dbl> & <fct> & <fct> & <ord> & <dbl> & <dbl> & <dbl> & <dbl> & <dbl> & <dbl> & <ord> & <dbl> & <dbl> & <fct> & <dbl> & <dbl> & <fct> & <dbl> & <dbl> & <dbl> & <dbl> & <dbl> & <dbl> & <dbl> & <dbl>\\\\\n",
       "\\hline\n",
       "\t1 & 1  & 17001  & 15.0 & 12.33333 & 0 & N & 0 & 14 &  180 & 24 & 36 & 46 & 23 & 1 & 11 & 3.42857 & 0 & 1.70000 & 1.83333 & 0 & 60 & 12 & 2.33333 & 29 & 29 &  3.1659379 & -1.51406209 &   5.899432\\\\\n",
       "\t4 & 1  & 17004  & 11.0 & 10.00000 & 0 & N & 0 & 13 &  180 & 26 & 29 & 46 & 23 & 1 & 11 & 3.42857 & 0 & 1.70000 & 1.83333 & 0 & 60 & 12 & 2.33333 & 29 & 29 & -0.8340621 & -1.51406209 &   5.899432\\\\\n",
       "\t8 & 1  & 17008  & 13.0 & 14.33333 & 0 & N & 0 & 17 &  180 & 30 & 44 & 57 & 10 & 1 & 11 & 3.42857 & 0 & 1.70000 & 1.83333 & 0 & 60 & 12 & 2.33333 & 29 & 29 &  1.1659379 & -1.51406209 &   5.899432\\\\\n",
       "\t14 & 1  & 17014  & 10.5 & 13.00000 & 0 & Y & 0 & 12 &  180 & 22 & 34 & 47 & 20 & 1 & 11 & 3.42857 & 0 & 1.70000 & 1.83333 & 0 & 60 & 12 & 2.33333 & 29 & 29 & -1.3340621 & -1.51406209 &   5.899432\\\\\n",
       "\t60 & 15 & 157010 & 12.0 & 12.66667 & 0 & N & 0 &  3 & 1580 & 24 & 37 & 46 & 20 & 3 & 18 & 3.42857 & 0 & 1.90000 & 2.00000 & 1 & 25 & 21 & 2.00000 & 35 & 11 &  0.1659379 & -0.33406209 & -12.100568\\\\\n",
       "\t64 & 16 & 167006 & 13.0 & 16.33333 & 0 & N & 0 & 15 & 1680 & 22 & 44 & 50 & 27 & 2 & 13 & 3.14286 & 0 & 2.11111 & 2.16667 & 1 &  0 & 19 & 1.66667 & 28 & 13 &  1.1659379 & -0.14656209 & -10.100568\\\\\n",
       "\t82 & 18 & 187015 & 12.0 & 16.33333 & 0 & N & 0 & 14 & 1880 & 20 & 41 & 47 & 50 & 1 & 20 & 4.00000 & 0 & 1.20000 & 1.16667 & 0 &  0 & 25 & 1.66667 & 28 & 28 &  0.1659379 & -0.08406209 &   4.899432\\\\\n",
       "\t93 & 21 & 217001 & 14.5 & 13.33333 & 0 & N & 0 & 16 & 2180 & 30 & 34 & 48 & 20 & 2 & 15 & 2.85714 & 0 & 1.80000 & 1.66667 & 0 &  0 & 16 & 2.00000 & 19 & 19 &  2.6659379 & -0.06935621 &  -4.100568\\\\\n",
       "\t98 & 21 & 217007 & 13.0 &  9.00000 & 0 & N & 0 & 13 & 2180 & 17 & 45 & 55 & 28 & 2 & 15 & 2.85714 & 0 & 1.80000 & 1.66667 & 0 &  0 & 16 & 2.00000 & 19 & 19 &  1.1659379 & -0.06935621 &  -4.100568\\\\\n",
       "\t107 & 21 & 217017 & 12.0 & 12.66667 & 0 & N & 0 & 15 & 2180 & 27 & 44 & 47 & 18 & 2 & 15 & 2.85714 & 0 & 1.80000 & 1.66667 & 0 &  0 & 16 & 2.00000 & 19 & 19 &  0.1659379 & -0.06935621 &  -4.100568\\\\\n",
       "\t⋮ & ⋮ & ⋮ & ⋮ & ⋮ & ⋮ & ⋮ & ⋮ & ⋮ & ⋮ & ⋮ & ⋮ & ⋮ & ⋮ & ⋮ & ⋮ & ⋮ & ⋮ & ⋮ & ⋮ & ⋮ & ⋮ & ⋮ & ⋮ & ⋮ & ⋮ & ⋮ & ⋮ & ⋮\\\\\n",
       "\t2201 & 244 & 2447006 & 12.5 & 13.33333 & 0 & N & 0 & 14 & 24480 & 25 & 39 & 49 & 18 & 3 & 13 & 3.85714 & 0 & 1.4 & 1.33333 & 0 & 0 & 26 & 3.00000 & 13 & 13 & 0.6659379 & -0.7186775 & -10.1005684\\\\\n",
       "\t2211 & 246 & 2467005 & 12.5 &  8.66667 & 0 & N & 1 & 12 & 24680 & 15 & 34 & 47 & 50 & 1 & 24 & 3.14286 & 1 & 2.4 & 2.16667 & 1 & 0 & 13 & 3.33333 & 32 & 14 & 0.6659379 &  0.9159379 &  -9.1005684\\\\\n",
       "\t2213 & 246 & 2467007 & 13.0 & 15.33333 & 0 & N & 0 & 16 & 24680 & 26 & 40 & 47 & 50 & 1 & 24 & 3.14286 & 1 & 2.4 & 2.16667 & 1 & 0 & 13 & 3.33333 & 32 & 14 & 1.1659379 &  0.9159379 &  -9.1005684\\\\\n",
       "\t2216 & 246 & 2467010 & 12.5 & 10.33333 & 0 & N & 0 & 12 & 24680 & 22 & 41 & 53 & 50 & 1 & 24 & 3.14286 & 1 & 2.4 & 2.16667 & 1 & 0 & 13 & 3.33333 & 32 & 14 & 0.6659379 &  0.9159379 &  -9.1005684\\\\\n",
       "\t2217 & 246 & 2467011 & 14.0 & 12.00000 & 0 & N & 0 & 15 & 24680 & 24 & 34 & 47 & 50 & 1 & 24 & 3.14286 & 1 & 2.4 & 2.16667 & 1 & 0 & 13 & 3.33333 & 32 & 14 & 2.1659379 &  0.9159379 &  -9.1005684\\\\\n",
       "\t2218 & 246 & 2467012 & 16.5 &  9.33333 & 0 & N & 0 & 19 & 24680 & 28 & 49 & 56 & 40 & 1 & 24 & 3.14286 & 1 & 2.4 & 2.16667 & 1 & 0 & 13 & 3.33333 & 32 & 14 & 4.6659379 &  0.9159379 &  -9.1005684\\\\\n",
       "\t2219 & 246 & 2467013 & 12.5 & 12.00000 & 0 & N & 0 & 17 & 24680 & 26 & 41 & 51 & 30 & 1 & 24 & 3.14286 & 1 & 2.4 & 2.16667 & 1 & 0 & 13 & 3.33333 & 32 & 14 & 0.6659379 &  0.9159379 &  -9.1005684\\\\\n",
       "\t2240 & 249 & 2497020 & 14.5 & 12.66667 & 0 & N & 0 & 15 & 24980 & 22 & 39 & 49 & 33 & 3 & 20 & 3.42857 & 1 & 2.0 & 1.66667 & 0 & 0 & 15 & 2.66667 & 24 & 24 & 2.6659379 &  0.3742712 &   0.8994316\\\\\n",
       "\t2244 & 249 & 2497024 & 15.5 & 11.00000 & 0 & N & 0 & 17 & 24980 & 29 & 44 & 50 & 23 & 3 & 20 & 3.42857 & 1 & 2.0 & 1.66667 & 0 & 0 & 15 & 2.66667 & 24 & 24 & 3.6659379 &  0.3742712 &   0.8994316\\\\\n",
       "\t2265 & 252 & 2527008 & 12.0 &  9.33333 & 0 & N & 0 & 11 & 25280 & 16 & 39 & 48 & 15 & 3 & 17 & 3.28571 & 0 & 2.2 & 2.16667 & 0 & 0 & 15 & 2.33333 & 25 & 25 & 0.1659379 & -0.5613348 &   1.8994316\\\\\n",
       "\\end{tabular}\n"
      ],
      "text/markdown": [
       "\n",
       "A nfnGroupedData: 371 × 28\n",
       "\n",
       "| <!--/--> | schoolNR &lt;ord&gt; | pupilNR &lt;fct&gt; | IQ.verb &lt;dbl&gt; | IQ.perf &lt;dbl&gt; | sex &lt;fct&gt; | Minority &lt;fct&gt; | repeatgr &lt;ord&gt; | aritPRET &lt;dbl&gt; | classNR &lt;dbl&gt; | aritPOST &lt;dbl&gt; | langPRET &lt;dbl&gt; | langPOST &lt;dbl&gt; | ses &lt;dbl&gt; | denomina &lt;ord&gt; | schoolSES &lt;dbl&gt; | satiprin &lt;dbl&gt; | natitest &lt;fct&gt; | meetings &lt;dbl&gt; | currmeet &lt;dbl&gt; | mixedgra &lt;fct&gt; | percmino &lt;dbl&gt; | aritdiff &lt;dbl&gt; | homework &lt;dbl&gt; | classsiz &lt;dbl&gt; | groupsiz &lt;dbl&gt; | IQ.ver.cen &lt;dbl&gt; | avg.IQ.ver.cen &lt;dbl&gt; | grpSiz.cen &lt;dbl&gt; |\n",
       "|---|---|---|---|---|---|---|---|---|---|---|---|---|---|---|---|---|---|---|---|---|---|---|---|---|---|---|---|---|\n",
       "| 1 | 1  | 17001  | 15.0 | 12.33333 | 0 | N | 0 | 14 |  180 | 24 | 36 | 46 | 23 | 1 | 11 | 3.42857 | 0 | 1.70000 | 1.83333 | 0 | 60 | 12 | 2.33333 | 29 | 29 |  3.1659379 | -1.51406209 |   5.899432 |\n",
       "| 4 | 1  | 17004  | 11.0 | 10.00000 | 0 | N | 0 | 13 |  180 | 26 | 29 | 46 | 23 | 1 | 11 | 3.42857 | 0 | 1.70000 | 1.83333 | 0 | 60 | 12 | 2.33333 | 29 | 29 | -0.8340621 | -1.51406209 |   5.899432 |\n",
       "| 8 | 1  | 17008  | 13.0 | 14.33333 | 0 | N | 0 | 17 |  180 | 30 | 44 | 57 | 10 | 1 | 11 | 3.42857 | 0 | 1.70000 | 1.83333 | 0 | 60 | 12 | 2.33333 | 29 | 29 |  1.1659379 | -1.51406209 |   5.899432 |\n",
       "| 14 | 1  | 17014  | 10.5 | 13.00000 | 0 | Y | 0 | 12 |  180 | 22 | 34 | 47 | 20 | 1 | 11 | 3.42857 | 0 | 1.70000 | 1.83333 | 0 | 60 | 12 | 2.33333 | 29 | 29 | -1.3340621 | -1.51406209 |   5.899432 |\n",
       "| 60 | 15 | 157010 | 12.0 | 12.66667 | 0 | N | 0 |  3 | 1580 | 24 | 37 | 46 | 20 | 3 | 18 | 3.42857 | 0 | 1.90000 | 2.00000 | 1 | 25 | 21 | 2.00000 | 35 | 11 |  0.1659379 | -0.33406209 | -12.100568 |\n",
       "| 64 | 16 | 167006 | 13.0 | 16.33333 | 0 | N | 0 | 15 | 1680 | 22 | 44 | 50 | 27 | 2 | 13 | 3.14286 | 0 | 2.11111 | 2.16667 | 1 |  0 | 19 | 1.66667 | 28 | 13 |  1.1659379 | -0.14656209 | -10.100568 |\n",
       "| 82 | 18 | 187015 | 12.0 | 16.33333 | 0 | N | 0 | 14 | 1880 | 20 | 41 | 47 | 50 | 1 | 20 | 4.00000 | 0 | 1.20000 | 1.16667 | 0 |  0 | 25 | 1.66667 | 28 | 28 |  0.1659379 | -0.08406209 |   4.899432 |\n",
       "| 93 | 21 | 217001 | 14.5 | 13.33333 | 0 | N | 0 | 16 | 2180 | 30 | 34 | 48 | 20 | 2 | 15 | 2.85714 | 0 | 1.80000 | 1.66667 | 0 |  0 | 16 | 2.00000 | 19 | 19 |  2.6659379 | -0.06935621 |  -4.100568 |\n",
       "| 98 | 21 | 217007 | 13.0 |  9.00000 | 0 | N | 0 | 13 | 2180 | 17 | 45 | 55 | 28 | 2 | 15 | 2.85714 | 0 | 1.80000 | 1.66667 | 0 |  0 | 16 | 2.00000 | 19 | 19 |  1.1659379 | -0.06935621 |  -4.100568 |\n",
       "| 107 | 21 | 217017 | 12.0 | 12.66667 | 0 | N | 0 | 15 | 2180 | 27 | 44 | 47 | 18 | 2 | 15 | 2.85714 | 0 | 1.80000 | 1.66667 | 0 |  0 | 16 | 2.00000 | 19 | 19 |  0.1659379 | -0.06935621 |  -4.100568 |\n",
       "| ⋮ | ⋮ | ⋮ | ⋮ | ⋮ | ⋮ | ⋮ | ⋮ | ⋮ | ⋮ | ⋮ | ⋮ | ⋮ | ⋮ | ⋮ | ⋮ | ⋮ | ⋮ | ⋮ | ⋮ | ⋮ | ⋮ | ⋮ | ⋮ | ⋮ | ⋮ | ⋮ | ⋮ | ⋮ |\n",
       "| 2201 | 244 | 2447006 | 12.5 | 13.33333 | 0 | N | 0 | 14 | 24480 | 25 | 39 | 49 | 18 | 3 | 13 | 3.85714 | 0 | 1.4 | 1.33333 | 0 | 0 | 26 | 3.00000 | 13 | 13 | 0.6659379 | -0.7186775 | -10.1005684 |\n",
       "| 2211 | 246 | 2467005 | 12.5 |  8.66667 | 0 | N | 1 | 12 | 24680 | 15 | 34 | 47 | 50 | 1 | 24 | 3.14286 | 1 | 2.4 | 2.16667 | 1 | 0 | 13 | 3.33333 | 32 | 14 | 0.6659379 |  0.9159379 |  -9.1005684 |\n",
       "| 2213 | 246 | 2467007 | 13.0 | 15.33333 | 0 | N | 0 | 16 | 24680 | 26 | 40 | 47 | 50 | 1 | 24 | 3.14286 | 1 | 2.4 | 2.16667 | 1 | 0 | 13 | 3.33333 | 32 | 14 | 1.1659379 |  0.9159379 |  -9.1005684 |\n",
       "| 2216 | 246 | 2467010 | 12.5 | 10.33333 | 0 | N | 0 | 12 | 24680 | 22 | 41 | 53 | 50 | 1 | 24 | 3.14286 | 1 | 2.4 | 2.16667 | 1 | 0 | 13 | 3.33333 | 32 | 14 | 0.6659379 |  0.9159379 |  -9.1005684 |\n",
       "| 2217 | 246 | 2467011 | 14.0 | 12.00000 | 0 | N | 0 | 15 | 24680 | 24 | 34 | 47 | 50 | 1 | 24 | 3.14286 | 1 | 2.4 | 2.16667 | 1 | 0 | 13 | 3.33333 | 32 | 14 | 2.1659379 |  0.9159379 |  -9.1005684 |\n",
       "| 2218 | 246 | 2467012 | 16.5 |  9.33333 | 0 | N | 0 | 19 | 24680 | 28 | 49 | 56 | 40 | 1 | 24 | 3.14286 | 1 | 2.4 | 2.16667 | 1 | 0 | 13 | 3.33333 | 32 | 14 | 4.6659379 |  0.9159379 |  -9.1005684 |\n",
       "| 2219 | 246 | 2467013 | 12.5 | 12.00000 | 0 | N | 0 | 17 | 24680 | 26 | 41 | 51 | 30 | 1 | 24 | 3.14286 | 1 | 2.4 | 2.16667 | 1 | 0 | 13 | 3.33333 | 32 | 14 | 0.6659379 |  0.9159379 |  -9.1005684 |\n",
       "| 2240 | 249 | 2497020 | 14.5 | 12.66667 | 0 | N | 0 | 15 | 24980 | 22 | 39 | 49 | 33 | 3 | 20 | 3.42857 | 1 | 2.0 | 1.66667 | 0 | 0 | 15 | 2.66667 | 24 | 24 | 2.6659379 |  0.3742712 |   0.8994316 |\n",
       "| 2244 | 249 | 2497024 | 15.5 | 11.00000 | 0 | N | 0 | 17 | 24980 | 29 | 44 | 50 | 23 | 3 | 20 | 3.42857 | 1 | 2.0 | 1.66667 | 0 | 0 | 15 | 2.66667 | 24 | 24 | 3.6659379 |  0.3742712 |   0.8994316 |\n",
       "| 2265 | 252 | 2527008 | 12.0 |  9.33333 | 0 | N | 0 | 11 | 25280 | 16 | 39 | 48 | 15 | 3 | 17 | 3.28571 | 0 | 2.2 | 2.16667 | 0 | 0 | 15 | 2.33333 | 25 | 25 | 0.1659379 | -0.5613348 |   1.8994316 |\n",
       "\n"
      ],
      "text/plain": [
       "     schoolNR pupilNR IQ.verb IQ.perf  sex Minority repeatgr aritPRET classNR\n",
       "1    1        17001   15.0    12.33333 0   N        0        14        180   \n",
       "4    1        17004   11.0    10.00000 0   N        0        13        180   \n",
       "8    1        17008   13.0    14.33333 0   N        0        17        180   \n",
       "14   1        17014   10.5    13.00000 0   Y        0        12        180   \n",
       "60   15       157010  12.0    12.66667 0   N        0         3       1580   \n",
       "64   16       167006  13.0    16.33333 0   N        0        15       1680   \n",
       "82   18       187015  12.0    16.33333 0   N        0        14       1880   \n",
       "93   21       217001  14.5    13.33333 0   N        0        16       2180   \n",
       "98   21       217007  13.0     9.00000 0   N        0        13       2180   \n",
       "107  21       217017  12.0    12.66667 0   N        0        15       2180   \n",
       "⋮    ⋮        ⋮       ⋮       ⋮        ⋮   ⋮        ⋮        ⋮        ⋮      \n",
       "2201 244      2447006 12.5    13.33333 0   N        0        14       24480  \n",
       "2211 246      2467005 12.5     8.66667 0   N        1        12       24680  \n",
       "2213 246      2467007 13.0    15.33333 0   N        0        16       24680  \n",
       "2216 246      2467010 12.5    10.33333 0   N        0        12       24680  \n",
       "2217 246      2467011 14.0    12.00000 0   N        0        15       24680  \n",
       "2218 246      2467012 16.5     9.33333 0   N        0        19       24680  \n",
       "2219 246      2467013 12.5    12.00000 0   N        0        17       24680  \n",
       "2240 249      2497020 14.5    12.66667 0   N        0        15       24980  \n",
       "2244 249      2497024 15.5    11.00000 0   N        0        17       24980  \n",
       "2265 252      2527008 12.0     9.33333 0   N        0        11       25280  \n",
       "     aritPOST langPRET langPOST ses denomina schoolSES satiprin natitest\n",
       "1    24       36       46       23  1        11        3.42857  0       \n",
       "4    26       29       46       23  1        11        3.42857  0       \n",
       "8    30       44       57       10  1        11        3.42857  0       \n",
       "14   22       34       47       20  1        11        3.42857  0       \n",
       "60   24       37       46       20  3        18        3.42857  0       \n",
       "64   22       44       50       27  2        13        3.14286  0       \n",
       "82   20       41       47       50  1        20        4.00000  0       \n",
       "93   30       34       48       20  2        15        2.85714  0       \n",
       "98   17       45       55       28  2        15        2.85714  0       \n",
       "107  27       44       47       18  2        15        2.85714  0       \n",
       "⋮    ⋮        ⋮        ⋮        ⋮   ⋮        ⋮         ⋮        ⋮       \n",
       "2201 25       39       49       18  3        13        3.85714  0       \n",
       "2211 15       34       47       50  1        24        3.14286  1       \n",
       "2213 26       40       47       50  1        24        3.14286  1       \n",
       "2216 22       41       53       50  1        24        3.14286  1       \n",
       "2217 24       34       47       50  1        24        3.14286  1       \n",
       "2218 28       49       56       40  1        24        3.14286  1       \n",
       "2219 26       41       51       30  1        24        3.14286  1       \n",
       "2240 22       39       49       33  3        20        3.42857  1       \n",
       "2244 29       44       50       23  3        20        3.42857  1       \n",
       "2265 16       39       48       15  3        17        3.28571  0       \n",
       "     meetings currmeet mixedgra percmino aritdiff homework classsiz groupsiz\n",
       "1    1.70000  1.83333  0        60       12       2.33333  29       29      \n",
       "4    1.70000  1.83333  0        60       12       2.33333  29       29      \n",
       "8    1.70000  1.83333  0        60       12       2.33333  29       29      \n",
       "14   1.70000  1.83333  0        60       12       2.33333  29       29      \n",
       "60   1.90000  2.00000  1        25       21       2.00000  35       11      \n",
       "64   2.11111  2.16667  1         0       19       1.66667  28       13      \n",
       "82   1.20000  1.16667  0         0       25       1.66667  28       28      \n",
       "93   1.80000  1.66667  0         0       16       2.00000  19       19      \n",
       "98   1.80000  1.66667  0         0       16       2.00000  19       19      \n",
       "107  1.80000  1.66667  0         0       16       2.00000  19       19      \n",
       "⋮    ⋮        ⋮        ⋮        ⋮        ⋮        ⋮        ⋮        ⋮       \n",
       "2201 1.4      1.33333  0        0        26       3.00000  13       13      \n",
       "2211 2.4      2.16667  1        0        13       3.33333  32       14      \n",
       "2213 2.4      2.16667  1        0        13       3.33333  32       14      \n",
       "2216 2.4      2.16667  1        0        13       3.33333  32       14      \n",
       "2217 2.4      2.16667  1        0        13       3.33333  32       14      \n",
       "2218 2.4      2.16667  1        0        13       3.33333  32       14      \n",
       "2219 2.4      2.16667  1        0        13       3.33333  32       14      \n",
       "2240 2.0      1.66667  0        0        15       2.66667  24       24      \n",
       "2244 2.0      1.66667  0        0        15       2.66667  24       24      \n",
       "2265 2.2      2.16667  0        0        15       2.33333  25       25      \n",
       "     IQ.ver.cen avg.IQ.ver.cen grpSiz.cen \n",
       "1     3.1659379 -1.51406209      5.899432 \n",
       "4    -0.8340621 -1.51406209      5.899432 \n",
       "8     1.1659379 -1.51406209      5.899432 \n",
       "14   -1.3340621 -1.51406209      5.899432 \n",
       "60    0.1659379 -0.33406209    -12.100568 \n",
       "64    1.1659379 -0.14656209    -10.100568 \n",
       "82    0.1659379 -0.08406209      4.899432 \n",
       "93    2.6659379 -0.06935621     -4.100568 \n",
       "98    1.1659379 -0.06935621     -4.100568 \n",
       "107   0.1659379 -0.06935621     -4.100568 \n",
       "⋮    ⋮          ⋮              ⋮          \n",
       "2201 0.6659379  -0.7186775     -10.1005684\n",
       "2211 0.6659379   0.9159379      -9.1005684\n",
       "2213 1.1659379   0.9159379      -9.1005684\n",
       "2216 0.6659379   0.9159379      -9.1005684\n",
       "2217 2.1659379   0.9159379      -9.1005684\n",
       "2218 4.6659379   0.9159379      -9.1005684\n",
       "2219 0.6659379   0.9159379      -9.1005684\n",
       "2240 2.6659379   0.3742712       0.8994316\n",
       "2244 3.6659379   0.3742712       0.8994316\n",
       "2265 0.1659379  -0.5613348       1.8994316"
      ]
     },
     "metadata": {},
     "output_type": "display_data"
    }
   ],
   "source": [
    "bdf %>%\n",
    "filter(sex != 1 & langPOST > 45)"
   ]
  },
  {
   "cell_type": "code",
   "execution_count": null,
   "id": "6f42fba2-a5a0-4326-9f22-1ef9c13d363d",
   "metadata": {},
   "outputs": [],
   "source": [
    "#Here I tried to create a column showcasing how much of an impact the language education the students received had on their test scores with dividing their new scores by their previous scores."
   ]
  },
  {
   "cell_type": "code",
   "execution_count": 11,
   "id": "07f5f337-e28d-4cc2-9ae9-b6960061aa7c",
   "metadata": {
    "tags": []
   },
   "outputs": [
    {
     "data": {
      "text/html": [
       "<table class=\"dataframe\">\n",
       "<caption>A nfnGroupedData: 2287 × 29</caption>\n",
       "<thead>\n",
       "\t<tr><th></th><th scope=col>schoolNR</th><th scope=col>pupilNR</th><th scope=col>IQ.verb</th><th scope=col>IQ.perf</th><th scope=col>sex</th><th scope=col>Minority</th><th scope=col>repeatgr</th><th scope=col>aritPRET</th><th scope=col>classNR</th><th scope=col>aritPOST</th><th scope=col>langPRET</th><th scope=col>langPOST</th><th scope=col>ses</th><th scope=col>denomina</th><th scope=col>schoolSES</th><th scope=col>satiprin</th><th scope=col>natitest</th><th scope=col>meetings</th><th scope=col>currmeet</th><th scope=col>mixedgra</th><th scope=col>percmino</th><th scope=col>aritdiff</th><th scope=col>homework</th><th scope=col>classsiz</th><th scope=col>groupsiz</th><th scope=col>IQ.ver.cen</th><th scope=col>avg.IQ.ver.cen</th><th scope=col>grpSiz.cen</th><th scope=col>langIMP</th></tr>\n",
       "\t<tr><th></th><th scope=col>&lt;ord&gt;</th><th scope=col>&lt;fct&gt;</th><th scope=col>&lt;dbl&gt;</th><th scope=col>&lt;dbl&gt;</th><th scope=col>&lt;fct&gt;</th><th scope=col>&lt;fct&gt;</th><th scope=col>&lt;ord&gt;</th><th scope=col>&lt;dbl&gt;</th><th scope=col>&lt;dbl&gt;</th><th scope=col>&lt;dbl&gt;</th><th scope=col>&lt;dbl&gt;</th><th scope=col>&lt;dbl&gt;</th><th scope=col>&lt;dbl&gt;</th><th scope=col>&lt;ord&gt;</th><th scope=col>&lt;dbl&gt;</th><th scope=col>&lt;dbl&gt;</th><th scope=col>&lt;fct&gt;</th><th scope=col>&lt;dbl&gt;</th><th scope=col>&lt;dbl&gt;</th><th scope=col>&lt;fct&gt;</th><th scope=col>&lt;dbl&gt;</th><th scope=col>&lt;dbl&gt;</th><th scope=col>&lt;dbl&gt;</th><th scope=col>&lt;dbl&gt;</th><th scope=col>&lt;dbl&gt;</th><th scope=col>&lt;dbl&gt;</th><th scope=col>&lt;dbl&gt;</th><th scope=col>&lt;dbl&gt;</th><th scope=col>&lt;dbl&gt;</th></tr>\n",
       "</thead>\n",
       "<tbody>\n",
       "\t<tr><th scope=row>1</th><td>1</td><td>17001</td><td>15.0</td><td>12.33333</td><td>0</td><td>N</td><td>0</td><td>14</td><td>180</td><td>24</td><td>36</td><td>46</td><td>23</td><td>1</td><td>11</td><td>3.42857</td><td>0</td><td>1.7</td><td>1.83333</td><td>0</td><td>60</td><td>12</td><td>2.33333</td><td>29</td><td>29</td><td> 3.1659379</td><td>-1.514062</td><td>5.899432</td><td>1.277778</td></tr>\n",
       "\t<tr><th scope=row>2</th><td>1</td><td>17002</td><td>14.5</td><td>10.00000</td><td>0</td><td>Y</td><td>0</td><td>12</td><td>180</td><td>19</td><td>36</td><td>45</td><td>10</td><td>1</td><td>11</td><td>3.42857</td><td>0</td><td>1.7</td><td>1.83333</td><td>0</td><td>60</td><td>12</td><td>2.33333</td><td>29</td><td>29</td><td> 2.6659379</td><td>-1.514062</td><td>5.899432</td><td>1.250000</td></tr>\n",
       "\t<tr><th scope=row>3</th><td>1</td><td>17003</td><td> 9.5</td><td>11.00000</td><td>0</td><td>N</td><td>0</td><td>10</td><td>180</td><td>24</td><td>33</td><td>33</td><td>15</td><td>1</td><td>11</td><td>3.42857</td><td>0</td><td>1.7</td><td>1.83333</td><td>0</td><td>60</td><td>12</td><td>2.33333</td><td>29</td><td>29</td><td>-2.3340621</td><td>-1.514062</td><td>5.899432</td><td>1.000000</td></tr>\n",
       "\t<tr><th scope=row>4</th><td>1</td><td>17004</td><td>11.0</td><td>10.00000</td><td>0</td><td>N</td><td>0</td><td>13</td><td>180</td><td>26</td><td>29</td><td>46</td><td>23</td><td>1</td><td>11</td><td>3.42857</td><td>0</td><td>1.7</td><td>1.83333</td><td>0</td><td>60</td><td>12</td><td>2.33333</td><td>29</td><td>29</td><td>-0.8340621</td><td>-1.514062</td><td>5.899432</td><td>1.586207</td></tr>\n",
       "\t<tr><th scope=row>5</th><td>1</td><td>17005</td><td> 8.0</td><td> 6.66667</td><td>0</td><td>N</td><td>0</td><td> 8</td><td>180</td><td> 9</td><td>19</td><td>20</td><td>10</td><td>1</td><td>11</td><td>3.42857</td><td>0</td><td>1.7</td><td>1.83333</td><td>0</td><td>60</td><td>12</td><td>2.33333</td><td>29</td><td>29</td><td>-3.8340621</td><td>-1.514062</td><td>5.899432</td><td>1.052632</td></tr>\n",
       "\t<tr><th scope=row>6</th><td>1</td><td>17006</td><td> 9.5</td><td> 9.00000</td><td>0</td><td>Y</td><td>0</td><td> 8</td><td>180</td><td>13</td><td>22</td><td>30</td><td>10</td><td>1</td><td>11</td><td>3.42857</td><td>0</td><td>1.7</td><td>1.83333</td><td>0</td><td>60</td><td>12</td><td>2.33333</td><td>29</td><td>29</td><td>-2.3340621</td><td>-1.514062</td><td>5.899432</td><td>1.363636</td></tr>\n",
       "\t<tr><th scope=row>7</th><td>1</td><td>17007</td><td> 9.5</td><td>10.33333</td><td>0</td><td>Y</td><td>0</td><td> 7</td><td>180</td><td>13</td><td>20</td><td>30</td><td>23</td><td>1</td><td>11</td><td>3.42857</td><td>0</td><td>1.7</td><td>1.83333</td><td>0</td><td>60</td><td>12</td><td>2.33333</td><td>29</td><td>29</td><td>-2.3340621</td><td>-1.514062</td><td>5.899432</td><td>1.500000</td></tr>\n",
       "\t<tr><th scope=row>8</th><td>1</td><td>17008</td><td>13.0</td><td>14.33333</td><td>0</td><td>N</td><td>0</td><td>17</td><td>180</td><td>30</td><td>44</td><td>57</td><td>10</td><td>1</td><td>11</td><td>3.42857</td><td>0</td><td>1.7</td><td>1.83333</td><td>0</td><td>60</td><td>12</td><td>2.33333</td><td>29</td><td>29</td><td> 1.1659379</td><td>-1.514062</td><td>5.899432</td><td>1.295455</td></tr>\n",
       "\t<tr><th scope=row>9</th><td>1</td><td>17009</td><td> 9.5</td><td> 8.66667</td><td>0</td><td>Y</td><td>1</td><td>10</td><td>180</td><td>23</td><td>34</td><td>36</td><td>13</td><td>1</td><td>11</td><td>3.42857</td><td>0</td><td>1.7</td><td>1.83333</td><td>0</td><td>60</td><td>12</td><td>2.33333</td><td>29</td><td>29</td><td>-2.3340621</td><td>-1.514062</td><td>5.899432</td><td>1.058824</td></tr>\n",
       "\t<tr><th scope=row>10</th><td>1</td><td>17010</td><td>11.0</td><td>15.00000</td><td>0</td><td>Y</td><td>0</td><td>14</td><td>180</td><td>22</td><td>31</td><td>36</td><td>15</td><td>1</td><td>11</td><td>3.42857</td><td>0</td><td>1.7</td><td>1.83333</td><td>0</td><td>60</td><td>12</td><td>2.33333</td><td>29</td><td>29</td><td>-0.8340621</td><td>-1.514062</td><td>5.899432</td><td>1.161290</td></tr>\n",
       "\t<tr><th scope=row>⋮</th><td>⋮</td><td>⋮</td><td>⋮</td><td>⋮</td><td>⋮</td><td>⋮</td><td>⋮</td><td>⋮</td><td>⋮</td><td>⋮</td><td>⋮</td><td>⋮</td><td>⋮</td><td>⋮</td><td>⋮</td><td>⋮</td><td>⋮</td><td>⋮</td><td>⋮</td><td>⋮</td><td>⋮</td><td>⋮</td><td>⋮</td><td>⋮</td><td>⋮</td><td>⋮</td><td>⋮</td><td>⋮</td><td>⋮</td></tr>\n",
       "\t<tr><th scope=row>2278</th><td>256</td><td>2567009</td><td>10.0</td><td> 9.00000</td><td>0</td><td>N</td><td>0</td><td> 8</td><td>25680</td><td> 7</td><td>29</td><td>24</td><td>10</td><td>2</td><td>11</td><td>3.42857</td><td>0</td><td>2.1</td><td>1.83333</td><td>1</td><td>10</td><td>22</td><td>2</td><td>32</td><td>12</td><td>-1.8340621</td><td>-1.284062</td><td>-11.10057</td><td>0.8275862</td></tr>\n",
       "\t<tr><th scope=row>2279</th><td>256</td><td>2567010</td><td>13.5</td><td>13.00000</td><td>1</td><td>N</td><td>0</td><td>15</td><td>25680</td><td>21</td><td>39</td><td>52</td><td>27</td><td>2</td><td>11</td><td>3.42857</td><td>0</td><td>2.1</td><td>1.83333</td><td>1</td><td>10</td><td>22</td><td>2</td><td>32</td><td>12</td><td> 1.6659379</td><td>-1.284062</td><td>-11.10057</td><td>1.3333333</td></tr>\n",
       "\t<tr><th scope=row>2280</th><td>256</td><td>2567011</td><td>11.0</td><td> 8.33333</td><td>1</td><td>N</td><td>0</td><td> 7</td><td>25680</td><td>11</td><td>27</td><td>30</td><td>10</td><td>2</td><td>11</td><td>3.42857</td><td>0</td><td>2.1</td><td>1.83333</td><td>1</td><td>10</td><td>22</td><td>2</td><td>32</td><td>12</td><td>-0.8340621</td><td>-1.284062</td><td>-11.10057</td><td>1.1111111</td></tr>\n",
       "\t<tr><th scope=row>2281</th><td>258</td><td>2587002</td><td> 9.5</td><td> 9.00000</td><td>0</td><td>N</td><td>0</td><td>12</td><td>25880</td><td>12</td><td>26</td><td>21</td><td>13</td><td>3</td><td>14</td><td>2.71429</td><td>0</td><td>2.0</td><td>2.00000</td><td>1</td><td> 0</td><td>13</td><td>2</td><td>30</td><td> 9</td><td>-2.3340621</td><td>-1.191205</td><td>-14.10057</td><td>0.8076923</td></tr>\n",
       "\t<tr><th scope=row>2282</th><td>258</td><td>2587003</td><td>10.0</td><td>10.33333</td><td>0</td><td>N</td><td>1</td><td> 8</td><td>25880</td><td> 5</td><td>20</td><td>25</td><td>10</td><td>3</td><td>14</td><td>2.71429</td><td>0</td><td>2.0</td><td>2.00000</td><td>1</td><td> 0</td><td>13</td><td>2</td><td>30</td><td> 9</td><td>-1.8340621</td><td>-1.191205</td><td>-14.10057</td><td>1.2500000</td></tr>\n",
       "\t<tr><th scope=row>2283</th><td>258</td><td>2587004</td><td>12.5</td><td> 5.33333</td><td>1</td><td>N</td><td>0</td><td>10</td><td>25880</td><td>11</td><td>24</td><td>21</td><td>17</td><td>3</td><td>14</td><td>2.71429</td><td>0</td><td>2.0</td><td>2.00000</td><td>1</td><td> 0</td><td>13</td><td>2</td><td>30</td><td> 9</td><td> 0.6659379</td><td>-1.191205</td><td>-14.10057</td><td>0.8750000</td></tr>\n",
       "\t<tr><th scope=row>2284</th><td>258</td><td>2587006</td><td> 9.0</td><td> 8.66667</td><td>1</td><td>N</td><td>0</td><td> 9</td><td>25880</td><td> 6</td><td>22</td><td>33</td><td>25</td><td>3</td><td>14</td><td>2.71429</td><td>0</td><td>2.0</td><td>2.00000</td><td>1</td><td> 0</td><td>13</td><td>2</td><td>30</td><td> 9</td><td>-2.8340621</td><td>-1.191205</td><td>-14.10057</td><td>1.5000000</td></tr>\n",
       "\t<tr><th scope=row>2285</th><td>258</td><td>2587007</td><td>11.0</td><td>12.33333</td><td>0</td><td>N</td><td>1</td><td>13</td><td>25880</td><td>14</td><td>25</td><td>26</td><td>25</td><td>3</td><td>14</td><td>2.71429</td><td>0</td><td>2.0</td><td>2.00000</td><td>1</td><td> 0</td><td>13</td><td>2</td><td>30</td><td> 9</td><td>-0.8340621</td><td>-1.191205</td><td>-14.10057</td><td>1.0400000</td></tr>\n",
       "\t<tr><th scope=row>2286</th><td>258</td><td>2587008</td><td>10.5</td><td> 9.33333</td><td>1</td><td>N</td><td>0</td><td> 9</td><td>25880</td><td>11</td><td>31</td><td>34</td><td>18</td><td>3</td><td>14</td><td>2.71429</td><td>0</td><td>2.0</td><td>2.00000</td><td>1</td><td> 0</td><td>13</td><td>2</td><td>30</td><td> 9</td><td>-1.3340621</td><td>-1.191205</td><td>-14.10057</td><td>1.0967742</td></tr>\n",
       "\t<tr><th scope=row>2287</th><td>258</td><td>2587010</td><td>12.0</td><td>10.33333</td><td>1</td><td>N</td><td>0</td><td> 8</td><td>25880</td><td> 8</td><td>29</td><td>39</td><td>25</td><td>3</td><td>14</td><td>2.71429</td><td>0</td><td>2.0</td><td>2.00000</td><td>1</td><td> 0</td><td>13</td><td>2</td><td>30</td><td> 9</td><td> 0.1659379</td><td>-1.191205</td><td>-14.10057</td><td>1.3448276</td></tr>\n",
       "</tbody>\n",
       "</table>\n"
      ],
      "text/latex": [
       "A nfnGroupedData: 2287 × 29\n",
       "\\begin{tabular}{r|lllllllllllllllllllllllllllll}\n",
       "  & schoolNR & pupilNR & IQ.verb & IQ.perf & sex & Minority & repeatgr & aritPRET & classNR & aritPOST & langPRET & langPOST & ses & denomina & schoolSES & satiprin & natitest & meetings & currmeet & mixedgra & percmino & aritdiff & homework & classsiz & groupsiz & IQ.ver.cen & avg.IQ.ver.cen & grpSiz.cen & langIMP\\\\\n",
       "  & <ord> & <fct> & <dbl> & <dbl> & <fct> & <fct> & <ord> & <dbl> & <dbl> & <dbl> & <dbl> & <dbl> & <dbl> & <ord> & <dbl> & <dbl> & <fct> & <dbl> & <dbl> & <fct> & <dbl> & <dbl> & <dbl> & <dbl> & <dbl> & <dbl> & <dbl> & <dbl> & <dbl>\\\\\n",
       "\\hline\n",
       "\t1 & 1 & 17001 & 15.0 & 12.33333 & 0 & N & 0 & 14 & 180 & 24 & 36 & 46 & 23 & 1 & 11 & 3.42857 & 0 & 1.7 & 1.83333 & 0 & 60 & 12 & 2.33333 & 29 & 29 &  3.1659379 & -1.514062 & 5.899432 & 1.277778\\\\\n",
       "\t2 & 1 & 17002 & 14.5 & 10.00000 & 0 & Y & 0 & 12 & 180 & 19 & 36 & 45 & 10 & 1 & 11 & 3.42857 & 0 & 1.7 & 1.83333 & 0 & 60 & 12 & 2.33333 & 29 & 29 &  2.6659379 & -1.514062 & 5.899432 & 1.250000\\\\\n",
       "\t3 & 1 & 17003 &  9.5 & 11.00000 & 0 & N & 0 & 10 & 180 & 24 & 33 & 33 & 15 & 1 & 11 & 3.42857 & 0 & 1.7 & 1.83333 & 0 & 60 & 12 & 2.33333 & 29 & 29 & -2.3340621 & -1.514062 & 5.899432 & 1.000000\\\\\n",
       "\t4 & 1 & 17004 & 11.0 & 10.00000 & 0 & N & 0 & 13 & 180 & 26 & 29 & 46 & 23 & 1 & 11 & 3.42857 & 0 & 1.7 & 1.83333 & 0 & 60 & 12 & 2.33333 & 29 & 29 & -0.8340621 & -1.514062 & 5.899432 & 1.586207\\\\\n",
       "\t5 & 1 & 17005 &  8.0 &  6.66667 & 0 & N & 0 &  8 & 180 &  9 & 19 & 20 & 10 & 1 & 11 & 3.42857 & 0 & 1.7 & 1.83333 & 0 & 60 & 12 & 2.33333 & 29 & 29 & -3.8340621 & -1.514062 & 5.899432 & 1.052632\\\\\n",
       "\t6 & 1 & 17006 &  9.5 &  9.00000 & 0 & Y & 0 &  8 & 180 & 13 & 22 & 30 & 10 & 1 & 11 & 3.42857 & 0 & 1.7 & 1.83333 & 0 & 60 & 12 & 2.33333 & 29 & 29 & -2.3340621 & -1.514062 & 5.899432 & 1.363636\\\\\n",
       "\t7 & 1 & 17007 &  9.5 & 10.33333 & 0 & Y & 0 &  7 & 180 & 13 & 20 & 30 & 23 & 1 & 11 & 3.42857 & 0 & 1.7 & 1.83333 & 0 & 60 & 12 & 2.33333 & 29 & 29 & -2.3340621 & -1.514062 & 5.899432 & 1.500000\\\\\n",
       "\t8 & 1 & 17008 & 13.0 & 14.33333 & 0 & N & 0 & 17 & 180 & 30 & 44 & 57 & 10 & 1 & 11 & 3.42857 & 0 & 1.7 & 1.83333 & 0 & 60 & 12 & 2.33333 & 29 & 29 &  1.1659379 & -1.514062 & 5.899432 & 1.295455\\\\\n",
       "\t9 & 1 & 17009 &  9.5 &  8.66667 & 0 & Y & 1 & 10 & 180 & 23 & 34 & 36 & 13 & 1 & 11 & 3.42857 & 0 & 1.7 & 1.83333 & 0 & 60 & 12 & 2.33333 & 29 & 29 & -2.3340621 & -1.514062 & 5.899432 & 1.058824\\\\\n",
       "\t10 & 1 & 17010 & 11.0 & 15.00000 & 0 & Y & 0 & 14 & 180 & 22 & 31 & 36 & 15 & 1 & 11 & 3.42857 & 0 & 1.7 & 1.83333 & 0 & 60 & 12 & 2.33333 & 29 & 29 & -0.8340621 & -1.514062 & 5.899432 & 1.161290\\\\\n",
       "\t⋮ & ⋮ & ⋮ & ⋮ & ⋮ & ⋮ & ⋮ & ⋮ & ⋮ & ⋮ & ⋮ & ⋮ & ⋮ & ⋮ & ⋮ & ⋮ & ⋮ & ⋮ & ⋮ & ⋮ & ⋮ & ⋮ & ⋮ & ⋮ & ⋮ & ⋮ & ⋮ & ⋮ & ⋮ & ⋮\\\\\n",
       "\t2278 & 256 & 2567009 & 10.0 &  9.00000 & 0 & N & 0 &  8 & 25680 &  7 & 29 & 24 & 10 & 2 & 11 & 3.42857 & 0 & 2.1 & 1.83333 & 1 & 10 & 22 & 2 & 32 & 12 & -1.8340621 & -1.284062 & -11.10057 & 0.8275862\\\\\n",
       "\t2279 & 256 & 2567010 & 13.5 & 13.00000 & 1 & N & 0 & 15 & 25680 & 21 & 39 & 52 & 27 & 2 & 11 & 3.42857 & 0 & 2.1 & 1.83333 & 1 & 10 & 22 & 2 & 32 & 12 &  1.6659379 & -1.284062 & -11.10057 & 1.3333333\\\\\n",
       "\t2280 & 256 & 2567011 & 11.0 &  8.33333 & 1 & N & 0 &  7 & 25680 & 11 & 27 & 30 & 10 & 2 & 11 & 3.42857 & 0 & 2.1 & 1.83333 & 1 & 10 & 22 & 2 & 32 & 12 & -0.8340621 & -1.284062 & -11.10057 & 1.1111111\\\\\n",
       "\t2281 & 258 & 2587002 &  9.5 &  9.00000 & 0 & N & 0 & 12 & 25880 & 12 & 26 & 21 & 13 & 3 & 14 & 2.71429 & 0 & 2.0 & 2.00000 & 1 &  0 & 13 & 2 & 30 &  9 & -2.3340621 & -1.191205 & -14.10057 & 0.8076923\\\\\n",
       "\t2282 & 258 & 2587003 & 10.0 & 10.33333 & 0 & N & 1 &  8 & 25880 &  5 & 20 & 25 & 10 & 3 & 14 & 2.71429 & 0 & 2.0 & 2.00000 & 1 &  0 & 13 & 2 & 30 &  9 & -1.8340621 & -1.191205 & -14.10057 & 1.2500000\\\\\n",
       "\t2283 & 258 & 2587004 & 12.5 &  5.33333 & 1 & N & 0 & 10 & 25880 & 11 & 24 & 21 & 17 & 3 & 14 & 2.71429 & 0 & 2.0 & 2.00000 & 1 &  0 & 13 & 2 & 30 &  9 &  0.6659379 & -1.191205 & -14.10057 & 0.8750000\\\\\n",
       "\t2284 & 258 & 2587006 &  9.0 &  8.66667 & 1 & N & 0 &  9 & 25880 &  6 & 22 & 33 & 25 & 3 & 14 & 2.71429 & 0 & 2.0 & 2.00000 & 1 &  0 & 13 & 2 & 30 &  9 & -2.8340621 & -1.191205 & -14.10057 & 1.5000000\\\\\n",
       "\t2285 & 258 & 2587007 & 11.0 & 12.33333 & 0 & N & 1 & 13 & 25880 & 14 & 25 & 26 & 25 & 3 & 14 & 2.71429 & 0 & 2.0 & 2.00000 & 1 &  0 & 13 & 2 & 30 &  9 & -0.8340621 & -1.191205 & -14.10057 & 1.0400000\\\\\n",
       "\t2286 & 258 & 2587008 & 10.5 &  9.33333 & 1 & N & 0 &  9 & 25880 & 11 & 31 & 34 & 18 & 3 & 14 & 2.71429 & 0 & 2.0 & 2.00000 & 1 &  0 & 13 & 2 & 30 &  9 & -1.3340621 & -1.191205 & -14.10057 & 1.0967742\\\\\n",
       "\t2287 & 258 & 2587010 & 12.0 & 10.33333 & 1 & N & 0 &  8 & 25880 &  8 & 29 & 39 & 25 & 3 & 14 & 2.71429 & 0 & 2.0 & 2.00000 & 1 &  0 & 13 & 2 & 30 &  9 &  0.1659379 & -1.191205 & -14.10057 & 1.3448276\\\\\n",
       "\\end{tabular}\n"
      ],
      "text/markdown": [
       "\n",
       "A nfnGroupedData: 2287 × 29\n",
       "\n",
       "| <!--/--> | schoolNR &lt;ord&gt; | pupilNR &lt;fct&gt; | IQ.verb &lt;dbl&gt; | IQ.perf &lt;dbl&gt; | sex &lt;fct&gt; | Minority &lt;fct&gt; | repeatgr &lt;ord&gt; | aritPRET &lt;dbl&gt; | classNR &lt;dbl&gt; | aritPOST &lt;dbl&gt; | langPRET &lt;dbl&gt; | langPOST &lt;dbl&gt; | ses &lt;dbl&gt; | denomina &lt;ord&gt; | schoolSES &lt;dbl&gt; | satiprin &lt;dbl&gt; | natitest &lt;fct&gt; | meetings &lt;dbl&gt; | currmeet &lt;dbl&gt; | mixedgra &lt;fct&gt; | percmino &lt;dbl&gt; | aritdiff &lt;dbl&gt; | homework &lt;dbl&gt; | classsiz &lt;dbl&gt; | groupsiz &lt;dbl&gt; | IQ.ver.cen &lt;dbl&gt; | avg.IQ.ver.cen &lt;dbl&gt; | grpSiz.cen &lt;dbl&gt; | langIMP &lt;dbl&gt; |\n",
       "|---|---|---|---|---|---|---|---|---|---|---|---|---|---|---|---|---|---|---|---|---|---|---|---|---|---|---|---|---|---|\n",
       "| 1 | 1 | 17001 | 15.0 | 12.33333 | 0 | N | 0 | 14 | 180 | 24 | 36 | 46 | 23 | 1 | 11 | 3.42857 | 0 | 1.7 | 1.83333 | 0 | 60 | 12 | 2.33333 | 29 | 29 |  3.1659379 | -1.514062 | 5.899432 | 1.277778 |\n",
       "| 2 | 1 | 17002 | 14.5 | 10.00000 | 0 | Y | 0 | 12 | 180 | 19 | 36 | 45 | 10 | 1 | 11 | 3.42857 | 0 | 1.7 | 1.83333 | 0 | 60 | 12 | 2.33333 | 29 | 29 |  2.6659379 | -1.514062 | 5.899432 | 1.250000 |\n",
       "| 3 | 1 | 17003 |  9.5 | 11.00000 | 0 | N | 0 | 10 | 180 | 24 | 33 | 33 | 15 | 1 | 11 | 3.42857 | 0 | 1.7 | 1.83333 | 0 | 60 | 12 | 2.33333 | 29 | 29 | -2.3340621 | -1.514062 | 5.899432 | 1.000000 |\n",
       "| 4 | 1 | 17004 | 11.0 | 10.00000 | 0 | N | 0 | 13 | 180 | 26 | 29 | 46 | 23 | 1 | 11 | 3.42857 | 0 | 1.7 | 1.83333 | 0 | 60 | 12 | 2.33333 | 29 | 29 | -0.8340621 | -1.514062 | 5.899432 | 1.586207 |\n",
       "| 5 | 1 | 17005 |  8.0 |  6.66667 | 0 | N | 0 |  8 | 180 |  9 | 19 | 20 | 10 | 1 | 11 | 3.42857 | 0 | 1.7 | 1.83333 | 0 | 60 | 12 | 2.33333 | 29 | 29 | -3.8340621 | -1.514062 | 5.899432 | 1.052632 |\n",
       "| 6 | 1 | 17006 |  9.5 |  9.00000 | 0 | Y | 0 |  8 | 180 | 13 | 22 | 30 | 10 | 1 | 11 | 3.42857 | 0 | 1.7 | 1.83333 | 0 | 60 | 12 | 2.33333 | 29 | 29 | -2.3340621 | -1.514062 | 5.899432 | 1.363636 |\n",
       "| 7 | 1 | 17007 |  9.5 | 10.33333 | 0 | Y | 0 |  7 | 180 | 13 | 20 | 30 | 23 | 1 | 11 | 3.42857 | 0 | 1.7 | 1.83333 | 0 | 60 | 12 | 2.33333 | 29 | 29 | -2.3340621 | -1.514062 | 5.899432 | 1.500000 |\n",
       "| 8 | 1 | 17008 | 13.0 | 14.33333 | 0 | N | 0 | 17 | 180 | 30 | 44 | 57 | 10 | 1 | 11 | 3.42857 | 0 | 1.7 | 1.83333 | 0 | 60 | 12 | 2.33333 | 29 | 29 |  1.1659379 | -1.514062 | 5.899432 | 1.295455 |\n",
       "| 9 | 1 | 17009 |  9.5 |  8.66667 | 0 | Y | 1 | 10 | 180 | 23 | 34 | 36 | 13 | 1 | 11 | 3.42857 | 0 | 1.7 | 1.83333 | 0 | 60 | 12 | 2.33333 | 29 | 29 | -2.3340621 | -1.514062 | 5.899432 | 1.058824 |\n",
       "| 10 | 1 | 17010 | 11.0 | 15.00000 | 0 | Y | 0 | 14 | 180 | 22 | 31 | 36 | 15 | 1 | 11 | 3.42857 | 0 | 1.7 | 1.83333 | 0 | 60 | 12 | 2.33333 | 29 | 29 | -0.8340621 | -1.514062 | 5.899432 | 1.161290 |\n",
       "| ⋮ | ⋮ | ⋮ | ⋮ | ⋮ | ⋮ | ⋮ | ⋮ | ⋮ | ⋮ | ⋮ | ⋮ | ⋮ | ⋮ | ⋮ | ⋮ | ⋮ | ⋮ | ⋮ | ⋮ | ⋮ | ⋮ | ⋮ | ⋮ | ⋮ | ⋮ | ⋮ | ⋮ | ⋮ | ⋮ |\n",
       "| 2278 | 256 | 2567009 | 10.0 |  9.00000 | 0 | N | 0 |  8 | 25680 |  7 | 29 | 24 | 10 | 2 | 11 | 3.42857 | 0 | 2.1 | 1.83333 | 1 | 10 | 22 | 2 | 32 | 12 | -1.8340621 | -1.284062 | -11.10057 | 0.8275862 |\n",
       "| 2279 | 256 | 2567010 | 13.5 | 13.00000 | 1 | N | 0 | 15 | 25680 | 21 | 39 | 52 | 27 | 2 | 11 | 3.42857 | 0 | 2.1 | 1.83333 | 1 | 10 | 22 | 2 | 32 | 12 |  1.6659379 | -1.284062 | -11.10057 | 1.3333333 |\n",
       "| 2280 | 256 | 2567011 | 11.0 |  8.33333 | 1 | N | 0 |  7 | 25680 | 11 | 27 | 30 | 10 | 2 | 11 | 3.42857 | 0 | 2.1 | 1.83333 | 1 | 10 | 22 | 2 | 32 | 12 | -0.8340621 | -1.284062 | -11.10057 | 1.1111111 |\n",
       "| 2281 | 258 | 2587002 |  9.5 |  9.00000 | 0 | N | 0 | 12 | 25880 | 12 | 26 | 21 | 13 | 3 | 14 | 2.71429 | 0 | 2.0 | 2.00000 | 1 |  0 | 13 | 2 | 30 |  9 | -2.3340621 | -1.191205 | -14.10057 | 0.8076923 |\n",
       "| 2282 | 258 | 2587003 | 10.0 | 10.33333 | 0 | N | 1 |  8 | 25880 |  5 | 20 | 25 | 10 | 3 | 14 | 2.71429 | 0 | 2.0 | 2.00000 | 1 |  0 | 13 | 2 | 30 |  9 | -1.8340621 | -1.191205 | -14.10057 | 1.2500000 |\n",
       "| 2283 | 258 | 2587004 | 12.5 |  5.33333 | 1 | N | 0 | 10 | 25880 | 11 | 24 | 21 | 17 | 3 | 14 | 2.71429 | 0 | 2.0 | 2.00000 | 1 |  0 | 13 | 2 | 30 |  9 |  0.6659379 | -1.191205 | -14.10057 | 0.8750000 |\n",
       "| 2284 | 258 | 2587006 |  9.0 |  8.66667 | 1 | N | 0 |  9 | 25880 |  6 | 22 | 33 | 25 | 3 | 14 | 2.71429 | 0 | 2.0 | 2.00000 | 1 |  0 | 13 | 2 | 30 |  9 | -2.8340621 | -1.191205 | -14.10057 | 1.5000000 |\n",
       "| 2285 | 258 | 2587007 | 11.0 | 12.33333 | 0 | N | 1 | 13 | 25880 | 14 | 25 | 26 | 25 | 3 | 14 | 2.71429 | 0 | 2.0 | 2.00000 | 1 |  0 | 13 | 2 | 30 |  9 | -0.8340621 | -1.191205 | -14.10057 | 1.0400000 |\n",
       "| 2286 | 258 | 2587008 | 10.5 |  9.33333 | 1 | N | 0 |  9 | 25880 | 11 | 31 | 34 | 18 | 3 | 14 | 2.71429 | 0 | 2.0 | 2.00000 | 1 |  0 | 13 | 2 | 30 |  9 | -1.3340621 | -1.191205 | -14.10057 | 1.0967742 |\n",
       "| 2287 | 258 | 2587010 | 12.0 | 10.33333 | 1 | N | 0 |  8 | 25880 |  8 | 29 | 39 | 25 | 3 | 14 | 2.71429 | 0 | 2.0 | 2.00000 | 1 |  0 | 13 | 2 | 30 |  9 |  0.1659379 | -1.191205 | -14.10057 | 1.3448276 |\n",
       "\n"
      ],
      "text/plain": [
       "     schoolNR pupilNR IQ.verb IQ.perf  sex Minority repeatgr aritPRET classNR\n",
       "1    1        17001   15.0    12.33333 0   N        0        14       180    \n",
       "2    1        17002   14.5    10.00000 0   Y        0        12       180    \n",
       "3    1        17003    9.5    11.00000 0   N        0        10       180    \n",
       "4    1        17004   11.0    10.00000 0   N        0        13       180    \n",
       "5    1        17005    8.0     6.66667 0   N        0         8       180    \n",
       "6    1        17006    9.5     9.00000 0   Y        0         8       180    \n",
       "7    1        17007    9.5    10.33333 0   Y        0         7       180    \n",
       "8    1        17008   13.0    14.33333 0   N        0        17       180    \n",
       "9    1        17009    9.5     8.66667 0   Y        1        10       180    \n",
       "10   1        17010   11.0    15.00000 0   Y        0        14       180    \n",
       "⋮    ⋮        ⋮       ⋮       ⋮        ⋮   ⋮        ⋮        ⋮        ⋮      \n",
       "2278 256      2567009 10.0     9.00000 0   N        0         8       25680  \n",
       "2279 256      2567010 13.5    13.00000 1   N        0        15       25680  \n",
       "2280 256      2567011 11.0     8.33333 1   N        0         7       25680  \n",
       "2281 258      2587002  9.5     9.00000 0   N        0        12       25880  \n",
       "2282 258      2587003 10.0    10.33333 0   N        1         8       25880  \n",
       "2283 258      2587004 12.5     5.33333 1   N        0        10       25880  \n",
       "2284 258      2587006  9.0     8.66667 1   N        0         9       25880  \n",
       "2285 258      2587007 11.0    12.33333 0   N        1        13       25880  \n",
       "2286 258      2587008 10.5     9.33333 1   N        0         9       25880  \n",
       "2287 258      2587010 12.0    10.33333 1   N        0         8       25880  \n",
       "     aritPOST langPRET langPOST ses denomina schoolSES satiprin natitest\n",
       "1    24       36       46       23  1        11        3.42857  0       \n",
       "2    19       36       45       10  1        11        3.42857  0       \n",
       "3    24       33       33       15  1        11        3.42857  0       \n",
       "4    26       29       46       23  1        11        3.42857  0       \n",
       "5     9       19       20       10  1        11        3.42857  0       \n",
       "6    13       22       30       10  1        11        3.42857  0       \n",
       "7    13       20       30       23  1        11        3.42857  0       \n",
       "8    30       44       57       10  1        11        3.42857  0       \n",
       "9    23       34       36       13  1        11        3.42857  0       \n",
       "10   22       31       36       15  1        11        3.42857  0       \n",
       "⋮    ⋮        ⋮        ⋮        ⋮   ⋮        ⋮         ⋮        ⋮       \n",
       "2278  7       29       24       10  2        11        3.42857  0       \n",
       "2279 21       39       52       27  2        11        3.42857  0       \n",
       "2280 11       27       30       10  2        11        3.42857  0       \n",
       "2281 12       26       21       13  3        14        2.71429  0       \n",
       "2282  5       20       25       10  3        14        2.71429  0       \n",
       "2283 11       24       21       17  3        14        2.71429  0       \n",
       "2284  6       22       33       25  3        14        2.71429  0       \n",
       "2285 14       25       26       25  3        14        2.71429  0       \n",
       "2286 11       31       34       18  3        14        2.71429  0       \n",
       "2287  8       29       39       25  3        14        2.71429  0       \n",
       "     meetings currmeet mixedgra percmino aritdiff homework classsiz groupsiz\n",
       "1    1.7      1.83333  0        60       12       2.33333  29       29      \n",
       "2    1.7      1.83333  0        60       12       2.33333  29       29      \n",
       "3    1.7      1.83333  0        60       12       2.33333  29       29      \n",
       "4    1.7      1.83333  0        60       12       2.33333  29       29      \n",
       "5    1.7      1.83333  0        60       12       2.33333  29       29      \n",
       "6    1.7      1.83333  0        60       12       2.33333  29       29      \n",
       "7    1.7      1.83333  0        60       12       2.33333  29       29      \n",
       "8    1.7      1.83333  0        60       12       2.33333  29       29      \n",
       "9    1.7      1.83333  0        60       12       2.33333  29       29      \n",
       "10   1.7      1.83333  0        60       12       2.33333  29       29      \n",
       "⋮    ⋮        ⋮        ⋮        ⋮        ⋮        ⋮        ⋮        ⋮       \n",
       "2278 2.1      1.83333  1        10       22       2        32       12      \n",
       "2279 2.1      1.83333  1        10       22       2        32       12      \n",
       "2280 2.1      1.83333  1        10       22       2        32       12      \n",
       "2281 2.0      2.00000  1         0       13       2        30        9      \n",
       "2282 2.0      2.00000  1         0       13       2        30        9      \n",
       "2283 2.0      2.00000  1         0       13       2        30        9      \n",
       "2284 2.0      2.00000  1         0       13       2        30        9      \n",
       "2285 2.0      2.00000  1         0       13       2        30        9      \n",
       "2286 2.0      2.00000  1         0       13       2        30        9      \n",
       "2287 2.0      2.00000  1         0       13       2        30        9      \n",
       "     IQ.ver.cen avg.IQ.ver.cen grpSiz.cen langIMP  \n",
       "1     3.1659379 -1.514062      5.899432   1.277778 \n",
       "2     2.6659379 -1.514062      5.899432   1.250000 \n",
       "3    -2.3340621 -1.514062      5.899432   1.000000 \n",
       "4    -0.8340621 -1.514062      5.899432   1.586207 \n",
       "5    -3.8340621 -1.514062      5.899432   1.052632 \n",
       "6    -2.3340621 -1.514062      5.899432   1.363636 \n",
       "7    -2.3340621 -1.514062      5.899432   1.500000 \n",
       "8     1.1659379 -1.514062      5.899432   1.295455 \n",
       "9    -2.3340621 -1.514062      5.899432   1.058824 \n",
       "10   -0.8340621 -1.514062      5.899432   1.161290 \n",
       "⋮    ⋮          ⋮              ⋮          ⋮        \n",
       "2278 -1.8340621 -1.284062      -11.10057  0.8275862\n",
       "2279  1.6659379 -1.284062      -11.10057  1.3333333\n",
       "2280 -0.8340621 -1.284062      -11.10057  1.1111111\n",
       "2281 -2.3340621 -1.191205      -14.10057  0.8076923\n",
       "2282 -1.8340621 -1.191205      -14.10057  1.2500000\n",
       "2283  0.6659379 -1.191205      -14.10057  0.8750000\n",
       "2284 -2.8340621 -1.191205      -14.10057  1.5000000\n",
       "2285 -0.8340621 -1.191205      -14.10057  1.0400000\n",
       "2286 -1.3340621 -1.191205      -14.10057  1.0967742\n",
       "2287  0.1659379 -1.191205      -14.10057  1.3448276"
      ]
     },
     "metadata": {},
     "output_type": "display_data"
    }
   ],
   "source": [
    "bdf %>%\n",
    "mutate(langIMP =  (langPOST/langPRET))"
   ]
  },
  {
   "cell_type": "code",
   "execution_count": null,
   "id": "5ccc318c-cc03-4782-a62e-d9d1032063e2",
   "metadata": {},
   "outputs": [],
   "source": [
    "#Here I wanted to see the biggest percentage of an impact the language education program had on students test scores "
   ]
  },
  {
   "cell_type": "code",
   "execution_count": 26,
   "id": "c12899e2-5c61-4a85-a60c-84c9259e3645",
   "metadata": {
    "tags": []
   },
   "outputs": [
    {
     "data": {
      "text/html": [
       "<table class=\"dataframe\">\n",
       "<caption>A data.frame: 1 × 1</caption>\n",
       "<thead>\n",
       "\t<tr><th scope=col>max_imp</th></tr>\n",
       "\t<tr><th scope=col>&lt;dbl&gt;</th></tr>\n",
       "</thead>\n",
       "<tbody>\n",
       "\t<tr><td>2.733333</td></tr>\n",
       "</tbody>\n",
       "</table>\n"
      ],
      "text/latex": [
       "A data.frame: 1 × 1\n",
       "\\begin{tabular}{l}\n",
       " max\\_imp\\\\\n",
       " <dbl>\\\\\n",
       "\\hline\n",
       "\t 2.733333\\\\\n",
       "\\end{tabular}\n"
      ],
      "text/markdown": [
       "\n",
       "A data.frame: 1 × 1\n",
       "\n",
       "| max_imp &lt;dbl&gt; |\n",
       "|---|\n",
       "| 2.733333 |\n",
       "\n"
      ],
      "text/plain": [
       "  max_imp \n",
       "1 2.733333"
      ]
     },
     "metadata": {},
     "output_type": "display_data"
    }
   ],
   "source": [
    "bdf %>%\n",
    "mutate(langIMP = (langPOST/langPRET) ) %>%\n",
    "summarise(max_imp = max(langIMP, na.rm = T))"
   ]
  },
  {
   "cell_type": "code",
   "execution_count": null,
   "id": "7e1355be-35c1-44b0-8161-d1323d27349a",
   "metadata": {},
   "outputs": [],
   "source": [
    "#Here I wanted to see the maximum impact the language education program had relative to kid's past test scores for each gender"
   ]
  },
  {
   "cell_type": "code",
   "execution_count": 27,
   "id": "6937d53d-84d0-4c2f-bdb4-887b2a2b44f8",
   "metadata": {
    "tags": []
   },
   "outputs": [
    {
     "data": {
      "text/html": [
       "<table class=\"dataframe\">\n",
       "<caption>A tibble: 2 × 2</caption>\n",
       "<thead>\n",
       "\t<tr><th scope=col>sex</th><th scope=col>max_imp</th></tr>\n",
       "\t<tr><th scope=col>&lt;fct&gt;</th><th scope=col>&lt;dbl&gt;</th></tr>\n",
       "</thead>\n",
       "<tbody>\n",
       "\t<tr><td>0</td><td>2.428571</td></tr>\n",
       "\t<tr><td>1</td><td>2.733333</td></tr>\n",
       "</tbody>\n",
       "</table>\n"
      ],
      "text/latex": [
       "A tibble: 2 × 2\n",
       "\\begin{tabular}{ll}\n",
       " sex & max\\_imp\\\\\n",
       " <fct> & <dbl>\\\\\n",
       "\\hline\n",
       "\t 0 & 2.428571\\\\\n",
       "\t 1 & 2.733333\\\\\n",
       "\\end{tabular}\n"
      ],
      "text/markdown": [
       "\n",
       "A tibble: 2 × 2\n",
       "\n",
       "| sex &lt;fct&gt; | max_imp &lt;dbl&gt; |\n",
       "|---|---|\n",
       "| 0 | 2.428571 |\n",
       "| 1 | 2.733333 |\n",
       "\n"
      ],
      "text/plain": [
       "  sex max_imp \n",
       "1 0   2.428571\n",
       "2 1   2.733333"
      ]
     },
     "metadata": {},
     "output_type": "display_data"
    }
   ],
   "source": [
    "bdf %>%\n",
    "group_by(sex) %>%\n",
    "mutate(langIMP = (langPOST/langPRET) ) %>%\n",
    "summarise(max_imp = max(langIMP, na.rm = T))"
   ]
  },
  {
   "cell_type": "code",
   "execution_count": null,
   "id": "4d20f2df-f71f-47c6-93d6-b3ea666abb20",
   "metadata": {},
   "outputs": [],
   "source": [
    "#Here I wanted to see the maximum, minimum and also the average effect language classes had in each classsiz for each gender."
   ]
  },
  {
   "cell_type": "code",
   "execution_count": 48,
   "id": "bf040ae2-3587-4b42-9d4f-bd2f8ca257e8",
   "metadata": {
    "tags": []
   },
   "outputs": [
    {
     "name": "stderr",
     "output_type": "stream",
     "text": [
      "\u001b[1m\u001b[22m`summarise()` has grouped output by 'sex'. You can override using the `.groups`\n",
      "argument.\n"
     ]
    }
   ],
   "source": [
    "bdf_pivot <- bdf %>%\n",
    "group_by(sex, classsiz) %>%\n",
    "mutate(langIMP = (langPOST/langPRET) ) %>%\n",
    "summarise(max_imp = max(langIMP, na.rm = T),\n",
    "          min_imp = min(langIMP, na.rm = T),\n",
    "          av_imp = mean(langIMP, na.rm = T))"
   ]
  },
  {
   "cell_type": "code",
   "execution_count": 50,
   "id": "3e0ec549-800c-4318-91ac-8d6d330f091f",
   "metadata": {
    "tags": []
   },
   "outputs": [
    {
     "data": {
      "text/html": [
       "<table class=\"dataframe\">\n",
       "<caption>A grouped_df: 224 × 3</caption>\n",
       "<thead>\n",
       "\t<tr><th scope=col>sex</th><th scope=col>stats</th><th scope=col>av_imp</th></tr>\n",
       "\t<tr><th scope=col>&lt;fct&gt;</th><th scope=col>&lt;chr&gt;</th><th scope=col>&lt;dbl&gt;</th></tr>\n",
       "</thead>\n",
       "<tbody>\n",
       "\t<tr><td>0</td><td>classsiz</td><td>10.000000</td></tr>\n",
       "\t<tr><td>0</td><td>max_imp </td><td> 1.363636</td></tr>\n",
       "\t<tr><td>0</td><td>min_imp </td><td> 0.593750</td></tr>\n",
       "\t<tr><td>0</td><td>av_imp  </td><td> 1.032450</td></tr>\n",
       "\t<tr><td>0</td><td>classsiz</td><td>11.000000</td></tr>\n",
       "\t<tr><td>0</td><td>max_imp </td><td> 1.566667</td></tr>\n",
       "\t<tr><td>0</td><td>min_imp </td><td> 0.937500</td></tr>\n",
       "\t<tr><td>0</td><td>av_imp  </td><td> 1.228962</td></tr>\n",
       "\t<tr><td>0</td><td>classsiz</td><td>13.000000</td></tr>\n",
       "\t<tr><td>0</td><td>max_imp </td><td> 1.428571</td></tr>\n",
       "\t<tr><td>⋮</td><td>⋮</td><td>⋮</td></tr>\n",
       "\t<tr><td>1</td><td>min_imp </td><td> 0.9230769</td></tr>\n",
       "\t<tr><td>1</td><td>av_imp  </td><td> 1.2434012</td></tr>\n",
       "\t<tr><td>1</td><td>classsiz</td><td>37.0000000</td></tr>\n",
       "\t<tr><td>1</td><td>max_imp </td><td> 1.5862069</td></tr>\n",
       "\t<tr><td>1</td><td>min_imp </td><td> 0.7500000</td></tr>\n",
       "\t<tr><td>1</td><td>av_imp  </td><td> 1.1482219</td></tr>\n",
       "\t<tr><td>1</td><td>classsiz</td><td>39.0000000</td></tr>\n",
       "\t<tr><td>1</td><td>max_imp </td><td> 1.2400000</td></tr>\n",
       "\t<tr><td>1</td><td>min_imp </td><td> 1.0681818</td></tr>\n",
       "\t<tr><td>1</td><td>av_imp  </td><td> 1.1540909</td></tr>\n",
       "</tbody>\n",
       "</table>\n"
      ],
      "text/latex": [
       "A grouped\\_df: 224 × 3\n",
       "\\begin{tabular}{lll}\n",
       " sex & stats & av\\_imp\\\\\n",
       " <fct> & <chr> & <dbl>\\\\\n",
       "\\hline\n",
       "\t 0 & classsiz & 10.000000\\\\\n",
       "\t 0 & max\\_imp  &  1.363636\\\\\n",
       "\t 0 & min\\_imp  &  0.593750\\\\\n",
       "\t 0 & av\\_imp   &  1.032450\\\\\n",
       "\t 0 & classsiz & 11.000000\\\\\n",
       "\t 0 & max\\_imp  &  1.566667\\\\\n",
       "\t 0 & min\\_imp  &  0.937500\\\\\n",
       "\t 0 & av\\_imp   &  1.228962\\\\\n",
       "\t 0 & classsiz & 13.000000\\\\\n",
       "\t 0 & max\\_imp  &  1.428571\\\\\n",
       "\t ⋮ & ⋮ & ⋮\\\\\n",
       "\t 1 & min\\_imp  &  0.9230769\\\\\n",
       "\t 1 & av\\_imp   &  1.2434012\\\\\n",
       "\t 1 & classsiz & 37.0000000\\\\\n",
       "\t 1 & max\\_imp  &  1.5862069\\\\\n",
       "\t 1 & min\\_imp  &  0.7500000\\\\\n",
       "\t 1 & av\\_imp   &  1.1482219\\\\\n",
       "\t 1 & classsiz & 39.0000000\\\\\n",
       "\t 1 & max\\_imp  &  1.2400000\\\\\n",
       "\t 1 & min\\_imp  &  1.0681818\\\\\n",
       "\t 1 & av\\_imp   &  1.1540909\\\\\n",
       "\\end{tabular}\n"
      ],
      "text/markdown": [
       "\n",
       "A grouped_df: 224 × 3\n",
       "\n",
       "| sex &lt;fct&gt; | stats &lt;chr&gt; | av_imp &lt;dbl&gt; |\n",
       "|---|---|---|\n",
       "| 0 | classsiz | 10.000000 |\n",
       "| 0 | max_imp  |  1.363636 |\n",
       "| 0 | min_imp  |  0.593750 |\n",
       "| 0 | av_imp   |  1.032450 |\n",
       "| 0 | classsiz | 11.000000 |\n",
       "| 0 | max_imp  |  1.566667 |\n",
       "| 0 | min_imp  |  0.937500 |\n",
       "| 0 | av_imp   |  1.228962 |\n",
       "| 0 | classsiz | 13.000000 |\n",
       "| 0 | max_imp  |  1.428571 |\n",
       "| ⋮ | ⋮ | ⋮ |\n",
       "| 1 | min_imp  |  0.9230769 |\n",
       "| 1 | av_imp   |  1.2434012 |\n",
       "| 1 | classsiz | 37.0000000 |\n",
       "| 1 | max_imp  |  1.5862069 |\n",
       "| 1 | min_imp  |  0.7500000 |\n",
       "| 1 | av_imp   |  1.1482219 |\n",
       "| 1 | classsiz | 39.0000000 |\n",
       "| 1 | max_imp  |  1.2400000 |\n",
       "| 1 | min_imp  |  1.0681818 |\n",
       "| 1 | av_imp   |  1.1540909 |\n",
       "\n"
      ],
      "text/plain": [
       "    sex stats    av_imp    \n",
       "1   0   classsiz 10.000000 \n",
       "2   0   max_imp   1.363636 \n",
       "3   0   min_imp   0.593750 \n",
       "4   0   av_imp    1.032450 \n",
       "5   0   classsiz 11.000000 \n",
       "6   0   max_imp   1.566667 \n",
       "7   0   min_imp   0.937500 \n",
       "8   0   av_imp    1.228962 \n",
       "9   0   classsiz 13.000000 \n",
       "10  0   max_imp   1.428571 \n",
       "⋮   ⋮   ⋮        ⋮         \n",
       "215 1   min_imp   0.9230769\n",
       "216 1   av_imp    1.2434012\n",
       "217 1   classsiz 37.0000000\n",
       "218 1   max_imp   1.5862069\n",
       "219 1   min_imp   0.7500000\n",
       "220 1   av_imp    1.1482219\n",
       "221 1   classsiz 39.0000000\n",
       "222 1   max_imp   1.2400000\n",
       "223 1   min_imp   1.0681818\n",
       "224 1   av_imp    1.1540909"
      ]
     },
     "metadata": {},
     "output_type": "display_data"
    }
   ],
   "source": [
    "bdf_pivot %>% pivot_longer(cols = -\"sex\", names_to = \"stats\", values_to = \"av_imp\", values_drop_na = T)"
   ]
  },
  {
   "cell_type": "code",
   "execution_count": null,
   "id": "fc80fb4f-68fe-40ca-b522-71cdbe5f7b1c",
   "metadata": {},
   "outputs": [],
   "source": [
    "#Here I wanted to see the average effect the language classes had on childrens test scores in each class respective of each gender"
   ]
  },
  {
   "cell_type": "code",
   "execution_count": 39,
   "id": "a4bc5868-baa2-47c9-b761-aac5b46ef348",
   "metadata": {
    "tags": []
   },
   "outputs": [],
   "source": [
    "bdf_wide <- bdf_pivot %>% pivot_wider(id_cols = sex, names_from =classsiz , values_from = av_imp)"
   ]
  },
  {
   "cell_type": "code",
   "execution_count": 40,
   "id": "b4a3b4e0-973c-48c2-8089-95a6cb139bf1",
   "metadata": {
    "tags": []
   },
   "outputs": [
    {
     "data": {
      "text/html": [
       "<table class=\"dataframe\">\n",
       "<caption>A grouped_df: 2 × 29</caption>\n",
       "<thead>\n",
       "\t<tr><th scope=col>sex</th><th scope=col>10</th><th scope=col>11</th><th scope=col>13</th><th scope=col>14</th><th scope=col>15</th><th scope=col>16</th><th scope=col>17</th><th scope=col>18</th><th scope=col>19</th><th scope=col>20</th><th scope=col>21</th><th scope=col>22</th><th scope=col>23</th><th scope=col>24</th><th scope=col>25</th><th scope=col>26</th><th scope=col>27</th><th scope=col>28</th><th scope=col>29</th><th scope=col>30</th><th scope=col>31</th><th scope=col>32</th><th scope=col>33</th><th scope=col>34</th><th scope=col>35</th><th scope=col>36</th><th scope=col>37</th><th scope=col>39</th></tr>\n",
       "\t<tr><th scope=col>&lt;fct&gt;</th><th scope=col>&lt;dbl&gt;</th><th scope=col>&lt;dbl&gt;</th><th scope=col>&lt;dbl&gt;</th><th scope=col>&lt;dbl&gt;</th><th scope=col>&lt;dbl&gt;</th><th scope=col>&lt;dbl&gt;</th><th scope=col>&lt;dbl&gt;</th><th scope=col>&lt;dbl&gt;</th><th scope=col>&lt;dbl&gt;</th><th scope=col>&lt;dbl&gt;</th><th scope=col>&lt;dbl&gt;</th><th scope=col>&lt;dbl&gt;</th><th scope=col>&lt;dbl&gt;</th><th scope=col>&lt;dbl&gt;</th><th scope=col>&lt;dbl&gt;</th><th scope=col>&lt;dbl&gt;</th><th scope=col>&lt;dbl&gt;</th><th scope=col>&lt;dbl&gt;</th><th scope=col>&lt;dbl&gt;</th><th scope=col>&lt;dbl&gt;</th><th scope=col>&lt;dbl&gt;</th><th scope=col>&lt;dbl&gt;</th><th scope=col>&lt;dbl&gt;</th><th scope=col>&lt;dbl&gt;</th><th scope=col>&lt;dbl&gt;</th><th scope=col>&lt;dbl&gt;</th><th scope=col>&lt;dbl&gt;</th><th scope=col>&lt;dbl&gt;</th></tr>\n",
       "</thead>\n",
       "<tbody>\n",
       "\t<tr><td>0</td><td>1.0324500</td><td>1.228962</td><td>1.169629</td><td>1.268086</td><td>1.148879</td><td>1.223849</td><td>1.186676</td><td>1.093455</td><td>1.099350</td><td>1.172116</td><td>1.178032</td><td>1.277045</td><td>1.185309</td><td>1.244095</td><td>1.225102</td><td>1.162130</td><td>1.181364</td><td>1.103834</td><td>1.197624</td><td>1.243657</td><td>1.129838</td><td>1.217189</td><td>1.168057</td><td>1.336663</td><td>1.189355</td><td>1.250768</td><td>1.122025</td><td>1.218920</td></tr>\n",
       "\t<tr><td>1</td><td>0.8831169</td><td>1.277779</td><td>1.293414</td><td>1.380135</td><td>1.419443</td><td>1.198508</td><td>1.286292</td><td>1.111067</td><td>1.149525</td><td>1.156175</td><td>1.263472</td><td>1.252107</td><td>1.207149</td><td>1.272817</td><td>1.251910</td><td>1.244321</td><td>1.260061</td><td>1.145469</td><td>1.189967</td><td>1.289746</td><td>1.203366</td><td>1.184694</td><td>1.162871</td><td>1.300329</td><td>1.248811</td><td>1.243401</td><td>1.148222</td><td>1.154091</td></tr>\n",
       "</tbody>\n",
       "</table>\n"
      ],
      "text/latex": [
       "A grouped\\_df: 2 × 29\n",
       "\\begin{tabular}{lllllllllllllllllllllllllllll}\n",
       " sex & 10 & 11 & 13 & 14 & 15 & 16 & 17 & 18 & 19 & 20 & 21 & 22 & 23 & 24 & 25 & 26 & 27 & 28 & 29 & 30 & 31 & 32 & 33 & 34 & 35 & 36 & 37 & 39\\\\\n",
       " <fct> & <dbl> & <dbl> & <dbl> & <dbl> & <dbl> & <dbl> & <dbl> & <dbl> & <dbl> & <dbl> & <dbl> & <dbl> & <dbl> & <dbl> & <dbl> & <dbl> & <dbl> & <dbl> & <dbl> & <dbl> & <dbl> & <dbl> & <dbl> & <dbl> & <dbl> & <dbl> & <dbl> & <dbl>\\\\\n",
       "\\hline\n",
       "\t 0 & 1.0324500 & 1.228962 & 1.169629 & 1.268086 & 1.148879 & 1.223849 & 1.186676 & 1.093455 & 1.099350 & 1.172116 & 1.178032 & 1.277045 & 1.185309 & 1.244095 & 1.225102 & 1.162130 & 1.181364 & 1.103834 & 1.197624 & 1.243657 & 1.129838 & 1.217189 & 1.168057 & 1.336663 & 1.189355 & 1.250768 & 1.122025 & 1.218920\\\\\n",
       "\t 1 & 0.8831169 & 1.277779 & 1.293414 & 1.380135 & 1.419443 & 1.198508 & 1.286292 & 1.111067 & 1.149525 & 1.156175 & 1.263472 & 1.252107 & 1.207149 & 1.272817 & 1.251910 & 1.244321 & 1.260061 & 1.145469 & 1.189967 & 1.289746 & 1.203366 & 1.184694 & 1.162871 & 1.300329 & 1.248811 & 1.243401 & 1.148222 & 1.154091\\\\\n",
       "\\end{tabular}\n"
      ],
      "text/markdown": [
       "\n",
       "A grouped_df: 2 × 29\n",
       "\n",
       "| sex &lt;fct&gt; | 10 &lt;dbl&gt; | 11 &lt;dbl&gt; | 13 &lt;dbl&gt; | 14 &lt;dbl&gt; | 15 &lt;dbl&gt; | 16 &lt;dbl&gt; | 17 &lt;dbl&gt; | 18 &lt;dbl&gt; | 19 &lt;dbl&gt; | 20 &lt;dbl&gt; | 21 &lt;dbl&gt; | 22 &lt;dbl&gt; | 23 &lt;dbl&gt; | 24 &lt;dbl&gt; | 25 &lt;dbl&gt; | 26 &lt;dbl&gt; | 27 &lt;dbl&gt; | 28 &lt;dbl&gt; | 29 &lt;dbl&gt; | 30 &lt;dbl&gt; | 31 &lt;dbl&gt; | 32 &lt;dbl&gt; | 33 &lt;dbl&gt; | 34 &lt;dbl&gt; | 35 &lt;dbl&gt; | 36 &lt;dbl&gt; | 37 &lt;dbl&gt; | 39 &lt;dbl&gt; |\n",
       "|---|---|---|---|---|---|---|---|---|---|---|---|---|---|---|---|---|---|---|---|---|---|---|---|---|---|---|---|---|\n",
       "| 0 | 1.0324500 | 1.228962 | 1.169629 | 1.268086 | 1.148879 | 1.223849 | 1.186676 | 1.093455 | 1.099350 | 1.172116 | 1.178032 | 1.277045 | 1.185309 | 1.244095 | 1.225102 | 1.162130 | 1.181364 | 1.103834 | 1.197624 | 1.243657 | 1.129838 | 1.217189 | 1.168057 | 1.336663 | 1.189355 | 1.250768 | 1.122025 | 1.218920 |\n",
       "| 1 | 0.8831169 | 1.277779 | 1.293414 | 1.380135 | 1.419443 | 1.198508 | 1.286292 | 1.111067 | 1.149525 | 1.156175 | 1.263472 | 1.252107 | 1.207149 | 1.272817 | 1.251910 | 1.244321 | 1.260061 | 1.145469 | 1.189967 | 1.289746 | 1.203366 | 1.184694 | 1.162871 | 1.300329 | 1.248811 | 1.243401 | 1.148222 | 1.154091 |\n",
       "\n"
      ],
      "text/plain": [
       "  sex 10        11       13       14       15       16       17       18      \n",
       "1 0   1.0324500 1.228962 1.169629 1.268086 1.148879 1.223849 1.186676 1.093455\n",
       "2 1   0.8831169 1.277779 1.293414 1.380135 1.419443 1.198508 1.286292 1.111067\n",
       "  19       20       21       22       23       24       25       26      \n",
       "1 1.099350 1.172116 1.178032 1.277045 1.185309 1.244095 1.225102 1.162130\n",
       "2 1.149525 1.156175 1.263472 1.252107 1.207149 1.272817 1.251910 1.244321\n",
       "  27       28       29       30       31       32       33       34      \n",
       "1 1.181364 1.103834 1.197624 1.243657 1.129838 1.217189 1.168057 1.336663\n",
       "2 1.260061 1.145469 1.189967 1.289746 1.203366 1.184694 1.162871 1.300329\n",
       "  35       36       37       39      \n",
       "1 1.189355 1.250768 1.122025 1.218920\n",
       "2 1.248811 1.243401 1.148222 1.154091"
      ]
     },
     "metadata": {},
     "output_type": "display_data"
    }
   ],
   "source": [
    "bdf_wide"
   ]
  },
  {
   "cell_type": "code",
   "execution_count": null,
   "id": "1857f7b3-af1f-4a02-a468-b77f0d82d212",
   "metadata": {},
   "outputs": [],
   "source": [
    "#here I wanted to make a simple left join function so I created two different data tables they match on values like çilek and çikolata"
   ]
  },
  {
   "cell_type": "code",
   "execution_count": 55,
   "id": "7c3cabc8-e924-4e3e-837d-a0899918e92a",
   "metadata": {
    "tags": []
   },
   "outputs": [],
   "source": [
    "new_table <- tibble(aa = LETTERS[1:4] , bb = c('çilek','muz','çikolata','kahve'))"
   ]
  },
  {
   "cell_type": "code",
   "execution_count": 56,
   "id": "a646149f-2ab9-405f-b0d1-a188e3a06a1c",
   "metadata": {
    "tags": []
   },
   "outputs": [],
   "source": [
    "new_table2 <- tibble(cc = LETTERS[5:8], bb = c('çilek','şeftali','çikolata','nane'))"
   ]
  },
  {
   "cell_type": "code",
   "execution_count": 62,
   "id": "5d91784b-c7d5-401d-a133-5ef06ef5ad36",
   "metadata": {
    "tags": []
   },
   "outputs": [
    {
     "data": {
      "text/html": [
       "<table class=\"dataframe\">\n",
       "<caption>A tibble: 4 × 3</caption>\n",
       "<thead>\n",
       "\t<tr><th scope=col>aa</th><th scope=col>bb</th><th scope=col>cc</th></tr>\n",
       "\t<tr><th scope=col>&lt;chr&gt;</th><th scope=col>&lt;chr&gt;</th><th scope=col>&lt;chr&gt;</th></tr>\n",
       "</thead>\n",
       "<tbody>\n",
       "\t<tr><td>A</td><td>çilek   </td><td>E </td></tr>\n",
       "\t<tr><td>B</td><td>muz     </td><td>NA</td></tr>\n",
       "\t<tr><td>C</td><td>çikolata</td><td>G </td></tr>\n",
       "\t<tr><td>D</td><td>kahve   </td><td>NA</td></tr>\n",
       "</tbody>\n",
       "</table>\n"
      ],
      "text/latex": [
       "A tibble: 4 × 3\n",
       "\\begin{tabular}{lll}\n",
       " aa & bb & cc\\\\\n",
       " <chr> & <chr> & <chr>\\\\\n",
       "\\hline\n",
       "\t A & çilek    & E \\\\\n",
       "\t B & muz      & NA\\\\\n",
       "\t C & çikolata & G \\\\\n",
       "\t D & kahve    & NA\\\\\n",
       "\\end{tabular}\n"
      ],
      "text/markdown": [
       "\n",
       "A tibble: 4 × 3\n",
       "\n",
       "| aa &lt;chr&gt; | bb &lt;chr&gt; | cc &lt;chr&gt; |\n",
       "|---|---|---|\n",
       "| A | çilek    | E  |\n",
       "| B | muz      | NA |\n",
       "| C | çikolata | G  |\n",
       "| D | kahve    | NA |\n",
       "\n"
      ],
      "text/plain": [
       "  aa bb       cc\n",
       "1 A  çilek    E \n",
       "2 B  muz      NA\n",
       "3 C  çikolata G \n",
       "4 D  kahve    NA"
      ]
     },
     "metadata": {},
     "output_type": "display_data"
    }
   ],
   "source": [
    "new_table %>% left_join(new_table2, by = \"bb\")"
   ]
  }
 ],
 "metadata": {
  "kernelspec": {
   "display_name": "R",
   "language": "R",
   "name": "ir"
  },
  "language_info": {
   "codemirror_mode": "r",
   "file_extension": ".r",
   "mimetype": "text/x-r-source",
   "name": "R",
   "pygments_lexer": "r",
   "version": "4.2.1"
  }
 },
 "nbformat": 4,
 "nbformat_minor": 5
}
